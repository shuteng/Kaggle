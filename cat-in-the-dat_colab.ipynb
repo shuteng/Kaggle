{
  "nbformat": 4,
  "nbformat_minor": 0,
  "metadata": {
    "kernelspec": {
      "display_name": "Python 3",
      "language": "python",
      "name": "python3"
    },
    "language_info": {
      "codemirror_mode": {
        "name": "ipython",
        "version": 3
      },
      "file_extension": ".py",
      "mimetype": "text/x-python",
      "name": "python",
      "nbconvert_exporter": "python",
      "pygments_lexer": "ipython3",
      "version": "3.7.3"
    },
    "colab": {
      "name": "label_ordinal_onhot_encoding_logistic.ipynb",
      "provenance": [],
      "collapsed_sections": [],
      "machine_shape": "hm"
    }
  },
  "cells": [
    {
      "cell_type": "markdown",
      "metadata": {
        "id": "-w6FuA0EYXG5",
        "colab_type": "text"
      },
      "source": [
        "# Remove nom_9/ Label+Ordinal+Onehot + Logistic auc=0.8033"
      ]
    },
    {
      "cell_type": "code",
      "metadata": {
        "id": "EV8t6LkaYXG8",
        "colab_type": "code",
        "colab": {}
      },
      "source": [
        "import warnings\n",
        "warnings.filterwarnings('ignore')"
      ],
      "execution_count": 0,
      "outputs": []
    },
    {
      "cell_type": "code",
      "metadata": {
        "id": "SPJtOcb0YXHF",
        "colab_type": "code",
        "colab": {}
      },
      "source": [
        "import numpy as np\n",
        "import pandas as pd\n",
        "import matplotlib.pyplot as plt\n",
        "import time\n",
        "from scipy.sparse import csr_matrix\n",
        "from sklearn.preprocessing import OneHotEncoder, OrdinalEncoder, MinMaxScaler\n",
        "from sklearn.model_selection import train_test_split, cross_val_score, KFold\n",
        "from sklearn.feature_selection import SelectFromModel, VarianceThreshold\n",
        "from sklearn.decomposition import PCA\n",
        "from sklearn.ensemble import RandomForestClassifier, GradientBoostingClassifier\n",
        "from sklearn.linear_model import LogisticRegression\n",
        "from sklearn.naive_bayes import BernoulliNB\n",
        "from sklearn.metrics import roc_auc_score\n",
        "from mlxtend.classifier import StackingClassifier\n"
      ],
      "execution_count": 0,
      "outputs": []
    },
    {
      "cell_type": "code",
      "metadata": {
        "id": "ecv9Y6yiiN1U",
        "colab_type": "code",
        "colab": {}
      },
      "source": [
        "from pydrive.auth import GoogleAuth\n",
        "from pydrive.drive import GoogleDrive \n",
        "from google.colab import auth \n",
        "from oauth2client.client import GoogleCredentials\n",
        " \n",
        "auth.authenticate_user()\n",
        "gauth = GoogleAuth()\n",
        "gauth.credentials = GoogleCredentials.get_application_default()\n",
        "drive = GoogleDrive(gauth)\n",
        "file_id = '12-k8EtURQjhX50YB8apJ6yCdgQHXlJ82'  #雲端硬碟檔案連結碼\n",
        "downloaded = drive.CreateFile({'id': file_id})\n",
        "downloaded.GetContentFile('train.csv')"
      ],
      "execution_count": 0,
      "outputs": []
    },
    {
      "cell_type": "code",
      "metadata": {
        "id": "d3t39MEbi_I7",
        "colab_type": "code",
        "colab": {}
      },
      "source": [
        "file2_id = '1mR9Bc0w46nYPs_7Y7LqkehUoZ5_rjz-7'  #雲端硬碟檔案連結碼\n",
        "downloaded = drive.CreateFile({'id': file2_id})\n",
        "downloaded.GetContentFile('test.csv')"
      ],
      "execution_count": 0,
      "outputs": []
    },
    {
      "cell_type": "code",
      "metadata": {
        "id": "PICCzcU9ZNFp",
        "colab_type": "code",
        "colab": {}
      },
      "source": [
        "#from google.colab import files\n",
        "#uploaded = files.upload()"
      ],
      "execution_count": 0,
      "outputs": []
    },
    {
      "cell_type": "code",
      "metadata": {
        "id": "aNlK6gk8YXHK",
        "colab_type": "code",
        "colab": {}
      },
      "source": [
        "# Preprocessing"
      ],
      "execution_count": 0,
      "outputs": []
    },
    {
      "cell_type": "code",
      "metadata": {
        "id": "945RdsNTYXHO",
        "colab_type": "code",
        "colab": {}
      },
      "source": [
        "train = pd.read_csv('train.csv', index_col=0)\n",
        "test = pd.read_csv('test.csv', index_col=0)\n",
        "target = train.iloc[:,-1]\n",
        "#train.drop('target', axis=1, inplace=True)"
      ],
      "execution_count": 0,
      "outputs": []
    },
    {
      "cell_type": "code",
      "metadata": {
        "id": "Nwxjf28jYXHW",
        "colab_type": "code",
        "outputId": "536e9b25-9966-43ff-ce2e-2f767f2a1fb6",
        "colab": {
          "base_uri": "https://localhost:8080/",
          "height": 257
        }
      },
      "source": [
        "data = pd.concat([train, test])\n",
        "data.index = range(data.shape[0])\n",
        "data.head()"
      ],
      "execution_count": 0,
      "outputs": [
        {
          "output_type": "execute_result",
          "data": {
            "text/html": [
              "<div>\n",
              "<style scoped>\n",
              "    .dataframe tbody tr th:only-of-type {\n",
              "        vertical-align: middle;\n",
              "    }\n",
              "\n",
              "    .dataframe tbody tr th {\n",
              "        vertical-align: top;\n",
              "    }\n",
              "\n",
              "    .dataframe thead th {\n",
              "        text-align: right;\n",
              "    }\n",
              "</style>\n",
              "<table border=\"1\" class=\"dataframe\">\n",
              "  <thead>\n",
              "    <tr style=\"text-align: right;\">\n",
              "      <th></th>\n",
              "      <th>bin_0</th>\n",
              "      <th>bin_1</th>\n",
              "      <th>bin_2</th>\n",
              "      <th>bin_3</th>\n",
              "      <th>bin_4</th>\n",
              "      <th>day</th>\n",
              "      <th>month</th>\n",
              "      <th>nom_0</th>\n",
              "      <th>nom_1</th>\n",
              "      <th>nom_2</th>\n",
              "      <th>nom_3</th>\n",
              "      <th>nom_4</th>\n",
              "      <th>nom_5</th>\n",
              "      <th>nom_6</th>\n",
              "      <th>nom_7</th>\n",
              "      <th>nom_8</th>\n",
              "      <th>nom_9</th>\n",
              "      <th>ord_0</th>\n",
              "      <th>ord_1</th>\n",
              "      <th>ord_2</th>\n",
              "      <th>ord_3</th>\n",
              "      <th>ord_4</th>\n",
              "      <th>ord_5</th>\n",
              "      <th>target</th>\n",
              "    </tr>\n",
              "  </thead>\n",
              "  <tbody>\n",
              "    <tr>\n",
              "      <th>0</th>\n",
              "      <td>0</td>\n",
              "      <td>0</td>\n",
              "      <td>0</td>\n",
              "      <td>T</td>\n",
              "      <td>Y</td>\n",
              "      <td>2</td>\n",
              "      <td>2</td>\n",
              "      <td>Green</td>\n",
              "      <td>Triangle</td>\n",
              "      <td>Snake</td>\n",
              "      <td>Finland</td>\n",
              "      <td>Bassoon</td>\n",
              "      <td>50f116bcf</td>\n",
              "      <td>3ac1b8814</td>\n",
              "      <td>68f6ad3e9</td>\n",
              "      <td>c389000ab</td>\n",
              "      <td>2f4cb3d51</td>\n",
              "      <td>2</td>\n",
              "      <td>Grandmaster</td>\n",
              "      <td>Cold</td>\n",
              "      <td>h</td>\n",
              "      <td>D</td>\n",
              "      <td>kr</td>\n",
              "      <td>0.0</td>\n",
              "    </tr>\n",
              "    <tr>\n",
              "      <th>1</th>\n",
              "      <td>0</td>\n",
              "      <td>1</td>\n",
              "      <td>0</td>\n",
              "      <td>T</td>\n",
              "      <td>Y</td>\n",
              "      <td>7</td>\n",
              "      <td>8</td>\n",
              "      <td>Green</td>\n",
              "      <td>Trapezoid</td>\n",
              "      <td>Hamster</td>\n",
              "      <td>Russia</td>\n",
              "      <td>Piano</td>\n",
              "      <td>b3b4d25d0</td>\n",
              "      <td>fbcb50fc1</td>\n",
              "      <td>3b6dd5612</td>\n",
              "      <td>4cd920251</td>\n",
              "      <td>f83c56c21</td>\n",
              "      <td>1</td>\n",
              "      <td>Grandmaster</td>\n",
              "      <td>Hot</td>\n",
              "      <td>a</td>\n",
              "      <td>A</td>\n",
              "      <td>bF</td>\n",
              "      <td>0.0</td>\n",
              "    </tr>\n",
              "    <tr>\n",
              "      <th>2</th>\n",
              "      <td>0</td>\n",
              "      <td>0</td>\n",
              "      <td>0</td>\n",
              "      <td>F</td>\n",
              "      <td>Y</td>\n",
              "      <td>7</td>\n",
              "      <td>2</td>\n",
              "      <td>Blue</td>\n",
              "      <td>Trapezoid</td>\n",
              "      <td>Lion</td>\n",
              "      <td>Russia</td>\n",
              "      <td>Theremin</td>\n",
              "      <td>3263bdce5</td>\n",
              "      <td>0922e3cb8</td>\n",
              "      <td>a6a36f527</td>\n",
              "      <td>de9c9f684</td>\n",
              "      <td>ae6800dd0</td>\n",
              "      <td>1</td>\n",
              "      <td>Expert</td>\n",
              "      <td>Lava Hot</td>\n",
              "      <td>h</td>\n",
              "      <td>R</td>\n",
              "      <td>Jc</td>\n",
              "      <td>0.0</td>\n",
              "    </tr>\n",
              "    <tr>\n",
              "      <th>3</th>\n",
              "      <td>0</td>\n",
              "      <td>1</td>\n",
              "      <td>0</td>\n",
              "      <td>F</td>\n",
              "      <td>Y</td>\n",
              "      <td>2</td>\n",
              "      <td>1</td>\n",
              "      <td>Red</td>\n",
              "      <td>Trapezoid</td>\n",
              "      <td>Snake</td>\n",
              "      <td>Canada</td>\n",
              "      <td>Oboe</td>\n",
              "      <td>f12246592</td>\n",
              "      <td>50d7ad46a</td>\n",
              "      <td>ec69236eb</td>\n",
              "      <td>4ade6ab69</td>\n",
              "      <td>8270f0d71</td>\n",
              "      <td>1</td>\n",
              "      <td>Grandmaster</td>\n",
              "      <td>Boiling Hot</td>\n",
              "      <td>i</td>\n",
              "      <td>D</td>\n",
              "      <td>kW</td>\n",
              "      <td>1.0</td>\n",
              "    </tr>\n",
              "    <tr>\n",
              "      <th>4</th>\n",
              "      <td>0</td>\n",
              "      <td>0</td>\n",
              "      <td>0</td>\n",
              "      <td>F</td>\n",
              "      <td>N</td>\n",
              "      <td>7</td>\n",
              "      <td>8</td>\n",
              "      <td>Red</td>\n",
              "      <td>Trapezoid</td>\n",
              "      <td>Lion</td>\n",
              "      <td>Canada</td>\n",
              "      <td>Oboe</td>\n",
              "      <td>5b0f5acd5</td>\n",
              "      <td>1fe17a1fd</td>\n",
              "      <td>04ddac2be</td>\n",
              "      <td>cb43ab175</td>\n",
              "      <td>b164b72a7</td>\n",
              "      <td>1</td>\n",
              "      <td>Grandmaster</td>\n",
              "      <td>Freezing</td>\n",
              "      <td>a</td>\n",
              "      <td>R</td>\n",
              "      <td>qP</td>\n",
              "      <td>0.0</td>\n",
              "    </tr>\n",
              "  </tbody>\n",
              "</table>\n",
              "</div>"
            ],
            "text/plain": [
              "   bin_0  bin_1  bin_2 bin_3 bin_4  ...        ord_2  ord_3 ord_4 ord_5 target\n",
              "0      0      0      0     T     Y  ...         Cold      h     D    kr    0.0\n",
              "1      0      1      0     T     Y  ...          Hot      a     A    bF    0.0\n",
              "2      0      0      0     F     Y  ...     Lava Hot      h     R    Jc    0.0\n",
              "3      0      1      0     F     Y  ...  Boiling Hot      i     D    kW    1.0\n",
              "4      0      0      0     F     N  ...     Freezing      a     R    qP    0.0\n",
              "\n",
              "[5 rows x 24 columns]"
            ]
          },
          "metadata": {
            "tags": []
          },
          "execution_count": 87
        }
      ]
    },
    {
      "cell_type": "code",
      "metadata": {
        "id": "vU5IbBoSYXHb",
        "colab_type": "code",
        "outputId": "8beda11a-86d2-4312-8673-44ab53c3d978",
        "colab": {
          "base_uri": "https://localhost:8080/",
          "height": 104
        }
      },
      "source": [
        "data.columns"
      ],
      "execution_count": 0,
      "outputs": [
        {
          "output_type": "execute_result",
          "data": {
            "text/plain": [
              "Index(['bin_0', 'bin_1', 'bin_2', 'bin_3', 'bin_4', 'day', 'month', 'nom_0',\n",
              "       'nom_1', 'nom_2', 'nom_3', 'nom_4', 'nom_5', 'nom_6', 'nom_7', 'nom_8',\n",
              "       'nom_9', 'ord_0', 'ord_1', 'ord_2', 'ord_3', 'ord_4', 'ord_5',\n",
              "       'target'],\n",
              "      dtype='object')"
            ]
          },
          "metadata": {
            "tags": []
          },
          "execution_count": 88
        }
      ]
    },
    {
      "cell_type": "code",
      "metadata": {
        "id": "t60CHTnHHHZm",
        "colab_type": "code",
        "colab": {}
      },
      "source": [
        "a=[]\n",
        "b=[]\n",
        "for i in data['ord_5']:\n",
        "  a.append(i[0])\n",
        "  b.append(i[1])\n",
        "data['ord_5_1'] = a\n",
        "data['ord_5_2'] = b\n",
        "data.drop('ord_5', axis=1, inplace=True)"
      ],
      "execution_count": 0,
      "outputs": []
    },
    {
      "cell_type": "code",
      "metadata": {
        "id": "0OIvPHFmHeQz",
        "colab_type": "code",
        "outputId": "fa18d880-ed9c-42be-9c93-c3a4dda93f4f",
        "colab": {
          "base_uri": "https://localhost:8080/",
          "height": 104
        }
      },
      "source": [
        "np.unique(b)"
      ],
      "execution_count": 0,
      "outputs": [
        {
          "output_type": "execute_result",
          "data": {
            "text/plain": [
              "array(['A', 'B', 'C', 'D', 'E', 'F', 'G', 'H', 'I', 'J', 'K', 'L', 'M',\n",
              "       'N', 'O', 'P', 'Q', 'R', 'S', 'T', 'U', 'V', 'W', 'X', 'Y', 'Z',\n",
              "       'a', 'b', 'c', 'd', 'e', 'f', 'g', 'h', 'i', 'j', 'k', 'l', 'm',\n",
              "       'n', 'o', 'p', 'q', 'r', 's', 't', 'u', 'v', 'w', 'x', 'y'],\n",
              "      dtype='<U1')"
            ]
          },
          "metadata": {
            "tags": []
          },
          "execution_count": 90
        }
      ]
    },
    {
      "cell_type": "code",
      "metadata": {
        "id": "fwsxhCGfYXHj",
        "colab_type": "code",
        "colab": {}
      },
      "source": [
        "bin_ = data[['bin_0', 'bin_1', 'bin_2', 'bin_3', 'bin_4', 'ord_0', 'ord_3', 'ord_4', 'nom_9', 'ord_5_2']]\n",
        "nom_ = data[['nom_0', 'nom_1', 'nom_2', 'nom_3', 'nom_4', 'nom_5', 'nom_6', 'nom_7', 'nom_8']]\n",
        "ord_ = data[['ord_1', 'ord_2', 'day', 'month', 'ord_5_1']]"
      ],
      "execution_count": 0,
      "outputs": []
    },
    {
      "cell_type": "code",
      "metadata": {
        "id": "ONzUYc9CYXHn",
        "colab_type": "code",
        "colab": {}
      },
      "source": [
        "bin_encode = pd.DataFrame(OrdinalEncoder().fit_transform(bin_))"
      ],
      "execution_count": 0,
      "outputs": []
    },
    {
      "cell_type": "code",
      "metadata": {
        "id": "raUvA11kYmOM",
        "colab_type": "code",
        "colab": {}
      },
      "source": [
        "#hash encoding\n",
        "bin_encode[8] = bin_encode[8].map(lambda x:hash(x) % 10)"
      ],
      "execution_count": 0,
      "outputs": []
    },
    {
      "cell_type": "code",
      "metadata": {
        "id": "Jv4Sy1nsYXHs",
        "colab_type": "code",
        "colab": {}
      },
      "source": [
        "ord_encode = pd.DataFrame()\n",
        "for i in ord_.columns:\n",
        "    index = data[:train.shape[0]].groupby(by=i)['target'].mean().sort_values().index\n",
        "    dict_ = dict(zip(index, range(len(index))))\n",
        "    ord_encode[i] = ord_[i].map(lambda x : dict_[x])"
      ],
      "execution_count": 0,
      "outputs": []
    },
    {
      "cell_type": "code",
      "metadata": {
        "id": "EIzPbrscYXHy",
        "colab_type": "code",
        "colab": {}
      },
      "source": [
        "final_data = pd.concat([bin_encode, ord_encode, nom_], axis=1)"
      ],
      "execution_count": 0,
      "outputs": []
    },
    {
      "cell_type": "code",
      "metadata": {
        "id": "yVbSXiQbYXH8",
        "colab_type": "code",
        "outputId": "a2d4ddc9-9a1d-45d2-9934-fd86da985972",
        "colab": {
          "base_uri": "https://localhost:8080/",
          "height": 35
        }
      },
      "source": [
        "t = time.time()\n",
        "OneHot = pd.get_dummies(final_data, \n",
        "                        columns=nom_.columns, \n",
        "                        drop_first=True, \n",
        "                        sparse=True\n",
        "                       )\n",
        "onhot_time = time.time()-t\n",
        "onhot_time"
      ],
      "execution_count": 0,
      "outputs": [
        {
          "output_type": "execute_result",
          "data": {
            "text/plain": [
              "4.09924840927124"
            ]
          },
          "metadata": {
            "tags": []
          },
          "execution_count": 96
        }
      ]
    },
    {
      "cell_type": "code",
      "metadata": {
        "id": "pBPt3p2En4k8",
        "colab_type": "code",
        "colab": {}
      },
      "source": [
        "Xtrain = OneHot.iloc[:train.shape[0]]\n",
        "Xtest = OneHot.iloc[train.shape[0]:]"
      ],
      "execution_count": 0,
      "outputs": []
    },
    {
      "cell_type": "code",
      "metadata": {
        "id": "4eEs-NBjYXIA",
        "colab_type": "code",
        "colab": {}
      },
      "source": [
        "#Xtrain = OneHot.iloc[:train.shape[0]].to_coo().tocsr()\n",
        "#Xtest = OneHot.iloc[train.shape[0]:].to_coo().tocsr()"
      ],
      "execution_count": 0,
      "outputs": []
    },
    {
      "cell_type": "code",
      "metadata": {
        "id": "G6HHuNxvYXIO",
        "colab_type": "code",
        "outputId": "57c3e197-e6af-4ec0-aae1-5d45fcd1e521",
        "colab": {
          "base_uri": "https://localhost:8080/",
          "height": 35
        }
      },
      "source": [
        "t = time.time()\n",
        "LGR = LogisticRegression(random_state=1, C=0.12).fit(Xtrain, target)\n",
        "LGR_time = time.time()-t\n",
        "LGR_time"
      ],
      "execution_count": 0,
      "outputs": [
        {
          "output_type": "execute_result",
          "data": {
            "text/plain": [
              "134.35044384002686"
            ]
          },
          "metadata": {
            "tags": []
          },
          "execution_count": 113
        }
      ]
    },
    {
      "cell_type": "code",
      "metadata": {
        "id": "oO1qveqmYXIR",
        "colab_type": "code",
        "colab": {}
      },
      "source": [
        "LGR_y_prob = LGR.predict_proba(Xtest)"
      ],
      "execution_count": 0,
      "outputs": []
    },
    {
      "cell_type": "code",
      "metadata": {
        "id": "PU3ewH_mYXIZ",
        "colab_type": "code",
        "colab": {}
      },
      "source": [
        "submission_new = pd.DataFrame(zip(test.index,LGR_y_prob[:,1]), columns=['id', 'target'])"
      ],
      "execution_count": 0,
      "outputs": []
    },
    {
      "cell_type": "code",
      "metadata": {
        "id": "E5GMeGTNYXIe",
        "colab_type": "code",
        "colab": {}
      },
      "source": [
        "submission_new.to_csv('submission_c0.12.csv', index=False)"
      ],
      "execution_count": 0,
      "outputs": []
    },
    {
      "cell_type": "code",
      "metadata": {
        "id": "mqMHPediFiqV",
        "colab_type": "code",
        "colab": {}
      },
      "source": [
        "from google.colab import files\n",
        "files.download(\"submission_c0.12.csv\")"
      ],
      "execution_count": 0,
      "outputs": []
    },
    {
      "cell_type": "code",
      "metadata": {
        "id": "-otaDTpZepgG",
        "colab_type": "code",
        "outputId": "971cf094-9c82-49fd-e2ff-f44de39793ab",
        "colab": {
          "base_uri": "https://localhost:8080/",
          "height": 1000
        }
      },
      "source": [
        "submission_new"
      ],
      "execution_count": 0,
      "outputs": [
        {
          "output_type": "execute_result",
          "data": {
            "text/html": [
              "<div>\n",
              "<style scoped>\n",
              "    .dataframe tbody tr th:only-of-type {\n",
              "        vertical-align: middle;\n",
              "    }\n",
              "\n",
              "    .dataframe tbody tr th {\n",
              "        vertical-align: top;\n",
              "    }\n",
              "\n",
              "    .dataframe thead th {\n",
              "        text-align: right;\n",
              "    }\n",
              "</style>\n",
              "<table border=\"1\" class=\"dataframe\">\n",
              "  <thead>\n",
              "    <tr style=\"text-align: right;\">\n",
              "      <th></th>\n",
              "      <th>id</th>\n",
              "      <th>target</th>\n",
              "    </tr>\n",
              "  </thead>\n",
              "  <tbody>\n",
              "    <tr>\n",
              "      <th>0</th>\n",
              "      <td>300000</td>\n",
              "      <td>0.415049</td>\n",
              "    </tr>\n",
              "    <tr>\n",
              "      <th>1</th>\n",
              "      <td>300001</td>\n",
              "      <td>0.668705</td>\n",
              "    </tr>\n",
              "    <tr>\n",
              "      <th>2</th>\n",
              "      <td>300002</td>\n",
              "      <td>0.128841</td>\n",
              "    </tr>\n",
              "    <tr>\n",
              "      <th>3</th>\n",
              "      <td>300003</td>\n",
              "      <td>0.501323</td>\n",
              "    </tr>\n",
              "    <tr>\n",
              "      <th>4</th>\n",
              "      <td>300004</td>\n",
              "      <td>0.878833</td>\n",
              "    </tr>\n",
              "    <tr>\n",
              "      <th>5</th>\n",
              "      <td>300005</td>\n",
              "      <td>0.126438</td>\n",
              "    </tr>\n",
              "    <tr>\n",
              "      <th>6</th>\n",
              "      <td>300006</td>\n",
              "      <td>0.321522</td>\n",
              "    </tr>\n",
              "    <tr>\n",
              "      <th>7</th>\n",
              "      <td>300007</td>\n",
              "      <td>0.186919</td>\n",
              "    </tr>\n",
              "    <tr>\n",
              "      <th>8</th>\n",
              "      <td>300008</td>\n",
              "      <td>0.554795</td>\n",
              "    </tr>\n",
              "    <tr>\n",
              "      <th>9</th>\n",
              "      <td>300009</td>\n",
              "      <td>0.382717</td>\n",
              "    </tr>\n",
              "    <tr>\n",
              "      <th>10</th>\n",
              "      <td>300010</td>\n",
              "      <td>0.388753</td>\n",
              "    </tr>\n",
              "    <tr>\n",
              "      <th>11</th>\n",
              "      <td>300011</td>\n",
              "      <td>0.498262</td>\n",
              "    </tr>\n",
              "    <tr>\n",
              "      <th>12</th>\n",
              "      <td>300012</td>\n",
              "      <td>0.454563</td>\n",
              "    </tr>\n",
              "    <tr>\n",
              "      <th>13</th>\n",
              "      <td>300013</td>\n",
              "      <td>0.388519</td>\n",
              "    </tr>\n",
              "    <tr>\n",
              "      <th>14</th>\n",
              "      <td>300014</td>\n",
              "      <td>0.234798</td>\n",
              "    </tr>\n",
              "    <tr>\n",
              "      <th>15</th>\n",
              "      <td>300015</td>\n",
              "      <td>0.666276</td>\n",
              "    </tr>\n",
              "    <tr>\n",
              "      <th>16</th>\n",
              "      <td>300016</td>\n",
              "      <td>0.098269</td>\n",
              "    </tr>\n",
              "    <tr>\n",
              "      <th>17</th>\n",
              "      <td>300017</td>\n",
              "      <td>0.656384</td>\n",
              "    </tr>\n",
              "    <tr>\n",
              "      <th>18</th>\n",
              "      <td>300018</td>\n",
              "      <td>0.266635</td>\n",
              "    </tr>\n",
              "    <tr>\n",
              "      <th>19</th>\n",
              "      <td>300019</td>\n",
              "      <td>0.581324</td>\n",
              "    </tr>\n",
              "    <tr>\n",
              "      <th>20</th>\n",
              "      <td>300020</td>\n",
              "      <td>0.451616</td>\n",
              "    </tr>\n",
              "    <tr>\n",
              "      <th>21</th>\n",
              "      <td>300021</td>\n",
              "      <td>0.435368</td>\n",
              "    </tr>\n",
              "    <tr>\n",
              "      <th>22</th>\n",
              "      <td>300022</td>\n",
              "      <td>0.067618</td>\n",
              "    </tr>\n",
              "    <tr>\n",
              "      <th>23</th>\n",
              "      <td>300023</td>\n",
              "      <td>0.023013</td>\n",
              "    </tr>\n",
              "    <tr>\n",
              "      <th>24</th>\n",
              "      <td>300024</td>\n",
              "      <td>0.167651</td>\n",
              "    </tr>\n",
              "    <tr>\n",
              "      <th>25</th>\n",
              "      <td>300025</td>\n",
              "      <td>0.028219</td>\n",
              "    </tr>\n",
              "    <tr>\n",
              "      <th>26</th>\n",
              "      <td>300026</td>\n",
              "      <td>0.080664</td>\n",
              "    </tr>\n",
              "    <tr>\n",
              "      <th>27</th>\n",
              "      <td>300027</td>\n",
              "      <td>0.032248</td>\n",
              "    </tr>\n",
              "    <tr>\n",
              "      <th>28</th>\n",
              "      <td>300028</td>\n",
              "      <td>0.078040</td>\n",
              "    </tr>\n",
              "    <tr>\n",
              "      <th>29</th>\n",
              "      <td>300029</td>\n",
              "      <td>0.769327</td>\n",
              "    </tr>\n",
              "    <tr>\n",
              "      <th>...</th>\n",
              "      <td>...</td>\n",
              "      <td>...</td>\n",
              "    </tr>\n",
              "    <tr>\n",
              "      <th>199970</th>\n",
              "      <td>499970</td>\n",
              "      <td>0.035424</td>\n",
              "    </tr>\n",
              "    <tr>\n",
              "      <th>199971</th>\n",
              "      <td>499971</td>\n",
              "      <td>0.660527</td>\n",
              "    </tr>\n",
              "    <tr>\n",
              "      <th>199972</th>\n",
              "      <td>499972</td>\n",
              "      <td>0.146636</td>\n",
              "    </tr>\n",
              "    <tr>\n",
              "      <th>199973</th>\n",
              "      <td>499973</td>\n",
              "      <td>0.217530</td>\n",
              "    </tr>\n",
              "    <tr>\n",
              "      <th>199974</th>\n",
              "      <td>499974</td>\n",
              "      <td>0.027445</td>\n",
              "    </tr>\n",
              "    <tr>\n",
              "      <th>199975</th>\n",
              "      <td>499975</td>\n",
              "      <td>0.427609</td>\n",
              "    </tr>\n",
              "    <tr>\n",
              "      <th>199976</th>\n",
              "      <td>499976</td>\n",
              "      <td>0.152543</td>\n",
              "    </tr>\n",
              "    <tr>\n",
              "      <th>199977</th>\n",
              "      <td>499977</td>\n",
              "      <td>0.310157</td>\n",
              "    </tr>\n",
              "    <tr>\n",
              "      <th>199978</th>\n",
              "      <td>499978</td>\n",
              "      <td>0.091460</td>\n",
              "    </tr>\n",
              "    <tr>\n",
              "      <th>199979</th>\n",
              "      <td>499979</td>\n",
              "      <td>0.105337</td>\n",
              "    </tr>\n",
              "    <tr>\n",
              "      <th>199980</th>\n",
              "      <td>499980</td>\n",
              "      <td>0.103284</td>\n",
              "    </tr>\n",
              "    <tr>\n",
              "      <th>199981</th>\n",
              "      <td>499981</td>\n",
              "      <td>0.918727</td>\n",
              "    </tr>\n",
              "    <tr>\n",
              "      <th>199982</th>\n",
              "      <td>499982</td>\n",
              "      <td>0.650588</td>\n",
              "    </tr>\n",
              "    <tr>\n",
              "      <th>199983</th>\n",
              "      <td>499983</td>\n",
              "      <td>0.196110</td>\n",
              "    </tr>\n",
              "    <tr>\n",
              "      <th>199984</th>\n",
              "      <td>499984</td>\n",
              "      <td>0.272315</td>\n",
              "    </tr>\n",
              "    <tr>\n",
              "      <th>199985</th>\n",
              "      <td>499985</td>\n",
              "      <td>0.515707</td>\n",
              "    </tr>\n",
              "    <tr>\n",
              "      <th>199986</th>\n",
              "      <td>499986</td>\n",
              "      <td>0.340923</td>\n",
              "    </tr>\n",
              "    <tr>\n",
              "      <th>199987</th>\n",
              "      <td>499987</td>\n",
              "      <td>0.156794</td>\n",
              "    </tr>\n",
              "    <tr>\n",
              "      <th>199988</th>\n",
              "      <td>499988</td>\n",
              "      <td>0.942340</td>\n",
              "    </tr>\n",
              "    <tr>\n",
              "      <th>199989</th>\n",
              "      <td>499989</td>\n",
              "      <td>0.189436</td>\n",
              "    </tr>\n",
              "    <tr>\n",
              "      <th>199990</th>\n",
              "      <td>499990</td>\n",
              "      <td>0.069745</td>\n",
              "    </tr>\n",
              "    <tr>\n",
              "      <th>199991</th>\n",
              "      <td>499991</td>\n",
              "      <td>0.275613</td>\n",
              "    </tr>\n",
              "    <tr>\n",
              "      <th>199992</th>\n",
              "      <td>499992</td>\n",
              "      <td>0.255213</td>\n",
              "    </tr>\n",
              "    <tr>\n",
              "      <th>199993</th>\n",
              "      <td>499993</td>\n",
              "      <td>0.279633</td>\n",
              "    </tr>\n",
              "    <tr>\n",
              "      <th>199994</th>\n",
              "      <td>499994</td>\n",
              "      <td>0.168457</td>\n",
              "    </tr>\n",
              "    <tr>\n",
              "      <th>199995</th>\n",
              "      <td>499995</td>\n",
              "      <td>0.268759</td>\n",
              "    </tr>\n",
              "    <tr>\n",
              "      <th>199996</th>\n",
              "      <td>499996</td>\n",
              "      <td>0.128558</td>\n",
              "    </tr>\n",
              "    <tr>\n",
              "      <th>199997</th>\n",
              "      <td>499997</td>\n",
              "      <td>0.384359</td>\n",
              "    </tr>\n",
              "    <tr>\n",
              "      <th>199998</th>\n",
              "      <td>499998</td>\n",
              "      <td>0.650583</td>\n",
              "    </tr>\n",
              "    <tr>\n",
              "      <th>199999</th>\n",
              "      <td>499999</td>\n",
              "      <td>0.224608</td>\n",
              "    </tr>\n",
              "  </tbody>\n",
              "</table>\n",
              "<p>200000 rows × 2 columns</p>\n",
              "</div>"
            ],
            "text/plain": [
              "            id    target\n",
              "0       300000  0.415049\n",
              "1       300001  0.668705\n",
              "2       300002  0.128841\n",
              "3       300003  0.501323\n",
              "4       300004  0.878833\n",
              "5       300005  0.126438\n",
              "6       300006  0.321522\n",
              "7       300007  0.186919\n",
              "8       300008  0.554795\n",
              "9       300009  0.382717\n",
              "10      300010  0.388753\n",
              "11      300011  0.498262\n",
              "12      300012  0.454563\n",
              "13      300013  0.388519\n",
              "14      300014  0.234798\n",
              "15      300015  0.666276\n",
              "16      300016  0.098269\n",
              "17      300017  0.656384\n",
              "18      300018  0.266635\n",
              "19      300019  0.581324\n",
              "20      300020  0.451616\n",
              "21      300021  0.435368\n",
              "22      300022  0.067618\n",
              "23      300023  0.023013\n",
              "24      300024  0.167651\n",
              "25      300025  0.028219\n",
              "26      300026  0.080664\n",
              "27      300027  0.032248\n",
              "28      300028  0.078040\n",
              "29      300029  0.769327\n",
              "...        ...       ...\n",
              "199970  499970  0.035424\n",
              "199971  499971  0.660527\n",
              "199972  499972  0.146636\n",
              "199973  499973  0.217530\n",
              "199974  499974  0.027445\n",
              "199975  499975  0.427609\n",
              "199976  499976  0.152543\n",
              "199977  499977  0.310157\n",
              "199978  499978  0.091460\n",
              "199979  499979  0.105337\n",
              "199980  499980  0.103284\n",
              "199981  499981  0.918727\n",
              "199982  499982  0.650588\n",
              "199983  499983  0.196110\n",
              "199984  499984  0.272315\n",
              "199985  499985  0.515707\n",
              "199986  499986  0.340923\n",
              "199987  499987  0.156794\n",
              "199988  499988  0.942340\n",
              "199989  499989  0.189436\n",
              "199990  499990  0.069745\n",
              "199991  499991  0.275613\n",
              "199992  499992  0.255213\n",
              "199993  499993  0.279633\n",
              "199994  499994  0.168457\n",
              "199995  499995  0.268759\n",
              "199996  499996  0.128558\n",
              "199997  499997  0.384359\n",
              "199998  499998  0.650583\n",
              "199999  499999  0.224608\n",
              "\n",
              "[200000 rows x 2 columns]"
            ]
          },
          "metadata": {
            "tags": []
          },
          "execution_count": 27
        }
      ]
    },
    {
      "cell_type": "markdown",
      "metadata": {
        "id": "GGeOGntmYXIj",
        "colab_type": "text"
      },
      "source": [
        "------------------"
      ]
    }
  ]
}