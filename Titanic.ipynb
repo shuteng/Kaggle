{
 "cells": [
  {
   "cell_type": "code",
   "execution_count": 1,
   "metadata": {},
   "outputs": [],
   "source": [
    "import numpy as np\n",
    "import pandas as pd\n",
    "from pandas import DataFrame, Series\n",
    "import matplotlib.pyplot as plt\n",
    "import seaborn as sns\n",
    "from sklearn.ensemble import RandomForestRegressor\n",
    "from sklearn.ensemble import RandomForestClassifier"
   ]
  },
  {
   "cell_type": "code",
   "execution_count": 2,
   "metadata": {},
   "outputs": [
    {
     "data": {
      "text/html": [
       "<div>\n",
       "<style scoped>\n",
       "    .dataframe tbody tr th:only-of-type {\n",
       "        vertical-align: middle;\n",
       "    }\n",
       "\n",
       "    .dataframe tbody tr th {\n",
       "        vertical-align: top;\n",
       "    }\n",
       "\n",
       "    .dataframe thead th {\n",
       "        text-align: right;\n",
       "    }\n",
       "</style>\n",
       "<table border=\"1\" class=\"dataframe\">\n",
       "  <thead>\n",
       "    <tr style=\"text-align: right;\">\n",
       "      <th></th>\n",
       "      <th>PassengerId</th>\n",
       "      <th>Survived</th>\n",
       "      <th>Pclass</th>\n",
       "      <th>Name</th>\n",
       "      <th>Sex</th>\n",
       "      <th>Age</th>\n",
       "      <th>SibSp</th>\n",
       "      <th>Parch</th>\n",
       "      <th>Ticket</th>\n",
       "      <th>Fare</th>\n",
       "      <th>Cabin</th>\n",
       "      <th>Embarked</th>\n",
       "    </tr>\n",
       "  </thead>\n",
       "  <tbody>\n",
       "    <tr>\n",
       "      <th>0</th>\n",
       "      <td>1</td>\n",
       "      <td>0</td>\n",
       "      <td>3</td>\n",
       "      <td>Braund, Mr. Owen Harris</td>\n",
       "      <td>male</td>\n",
       "      <td>22.0</td>\n",
       "      <td>1</td>\n",
       "      <td>0</td>\n",
       "      <td>A/5 21171</td>\n",
       "      <td>7.2500</td>\n",
       "      <td>NaN</td>\n",
       "      <td>S</td>\n",
       "    </tr>\n",
       "    <tr>\n",
       "      <th>1</th>\n",
       "      <td>2</td>\n",
       "      <td>1</td>\n",
       "      <td>1</td>\n",
       "      <td>Cumings, Mrs. John Bradley (Florence Briggs Th...</td>\n",
       "      <td>female</td>\n",
       "      <td>38.0</td>\n",
       "      <td>1</td>\n",
       "      <td>0</td>\n",
       "      <td>PC 17599</td>\n",
       "      <td>71.2833</td>\n",
       "      <td>C85</td>\n",
       "      <td>C</td>\n",
       "    </tr>\n",
       "    <tr>\n",
       "      <th>2</th>\n",
       "      <td>3</td>\n",
       "      <td>1</td>\n",
       "      <td>3</td>\n",
       "      <td>Heikkinen, Miss. Laina</td>\n",
       "      <td>female</td>\n",
       "      <td>26.0</td>\n",
       "      <td>0</td>\n",
       "      <td>0</td>\n",
       "      <td>STON/O2. 3101282</td>\n",
       "      <td>7.9250</td>\n",
       "      <td>NaN</td>\n",
       "      <td>S</td>\n",
       "    </tr>\n",
       "    <tr>\n",
       "      <th>3</th>\n",
       "      <td>4</td>\n",
       "      <td>1</td>\n",
       "      <td>1</td>\n",
       "      <td>Futrelle, Mrs. Jacques Heath (Lily May Peel)</td>\n",
       "      <td>female</td>\n",
       "      <td>35.0</td>\n",
       "      <td>1</td>\n",
       "      <td>0</td>\n",
       "      <td>113803</td>\n",
       "      <td>53.1000</td>\n",
       "      <td>C123</td>\n",
       "      <td>S</td>\n",
       "    </tr>\n",
       "    <tr>\n",
       "      <th>4</th>\n",
       "      <td>5</td>\n",
       "      <td>0</td>\n",
       "      <td>3</td>\n",
       "      <td>Allen, Mr. William Henry</td>\n",
       "      <td>male</td>\n",
       "      <td>35.0</td>\n",
       "      <td>0</td>\n",
       "      <td>0</td>\n",
       "      <td>373450</td>\n",
       "      <td>8.0500</td>\n",
       "      <td>NaN</td>\n",
       "      <td>S</td>\n",
       "    </tr>\n",
       "  </tbody>\n",
       "</table>\n",
       "</div>"
      ],
      "text/plain": [
       "   PassengerId  Survived  Pclass  \\\n",
       "0            1         0       3   \n",
       "1            2         1       1   \n",
       "2            3         1       3   \n",
       "3            4         1       1   \n",
       "4            5         0       3   \n",
       "\n",
       "                                                Name     Sex   Age  SibSp  \\\n",
       "0                            Braund, Mr. Owen Harris    male  22.0      1   \n",
       "1  Cumings, Mrs. John Bradley (Florence Briggs Th...  female  38.0      1   \n",
       "2                             Heikkinen, Miss. Laina  female  26.0      0   \n",
       "3       Futrelle, Mrs. Jacques Heath (Lily May Peel)  female  35.0      1   \n",
       "4                           Allen, Mr. William Henry    male  35.0      0   \n",
       "\n",
       "   Parch            Ticket     Fare Cabin Embarked  \n",
       "0      0         A/5 21171   7.2500   NaN        S  \n",
       "1      0          PC 17599  71.2833   C85        C  \n",
       "2      0  STON/O2. 3101282   7.9250   NaN        S  \n",
       "3      0            113803  53.1000  C123        S  \n",
       "4      0            373450   8.0500   NaN        S  "
      ]
     },
     "execution_count": 2,
     "metadata": {},
     "output_type": "execute_result"
    }
   ],
   "source": [
    "train = pd.read_csv('train.csv')\n",
    "test = pd.read_csv('test.csv')\n",
    "gender_submission = pd.read_csv('gender_submission.csv')\n",
    "train.head()"
   ]
  },
  {
   "cell_type": "code",
   "execution_count": 9,
   "metadata": {},
   "outputs": [
    {
     "data": {
      "text/plain": [
       "PassengerId      0\n",
       "Survived         0\n",
       "Pclass           0\n",
       "Name             0\n",
       "Sex              0\n",
       "Age            177\n",
       "SibSp            0\n",
       "Parch            0\n",
       "Ticket           0\n",
       "Fare             0\n",
       "Cabin          687\n",
       "Embarked         2\n",
       "dtype: int64"
      ]
     },
     "execution_count": 9,
     "metadata": {},
     "output_type": "execute_result"
    }
   ],
   "source": [
    "train.isnull().sum()"
   ]
  },
  {
   "cell_type": "code",
   "execution_count": 9,
   "metadata": {},
   "outputs": [
    {
     "name": "stdout",
     "output_type": "stream",
     "text": [
      "<class 'pandas.core.frame.DataFrame'>\n",
      "RangeIndex: 891 entries, 0 to 890\n",
      "Data columns (total 12 columns):\n",
      "PassengerId    891 non-null int64\n",
      "Survived       891 non-null int64\n",
      "Pclass         891 non-null int64\n",
      "Name           891 non-null object\n",
      "Sex            891 non-null object\n",
      "Age            714 non-null float64\n",
      "SibSp          891 non-null int64\n",
      "Parch          891 non-null int64\n",
      "Ticket         891 non-null object\n",
      "Fare           891 non-null float64\n",
      "Cabin          204 non-null object\n",
      "Embarked       889 non-null object\n",
      "dtypes: float64(2), int64(5), object(5)\n",
      "memory usage: 83.6+ KB\n"
     ]
    }
   ],
   "source": [
    "train.info()"
   ]
  },
  {
   "cell_type": "code",
   "execution_count": 10,
   "metadata": {},
   "outputs": [
    {
     "data": {
      "text/html": [
       "<div>\n",
       "<style scoped>\n",
       "    .dataframe tbody tr th:only-of-type {\n",
       "        vertical-align: middle;\n",
       "    }\n",
       "\n",
       "    .dataframe tbody tr th {\n",
       "        vertical-align: top;\n",
       "    }\n",
       "\n",
       "    .dataframe thead th {\n",
       "        text-align: right;\n",
       "    }\n",
       "</style>\n",
       "<table border=\"1\" class=\"dataframe\">\n",
       "  <thead>\n",
       "    <tr style=\"text-align: right;\">\n",
       "      <th></th>\n",
       "      <th>PassengerId</th>\n",
       "      <th>Survived</th>\n",
       "      <th>Pclass</th>\n",
       "      <th>Age</th>\n",
       "      <th>SibSp</th>\n",
       "      <th>Parch</th>\n",
       "      <th>Fare</th>\n",
       "    </tr>\n",
       "  </thead>\n",
       "  <tbody>\n",
       "    <tr>\n",
       "      <th>count</th>\n",
       "      <td>891.000000</td>\n",
       "      <td>891.000000</td>\n",
       "      <td>891.000000</td>\n",
       "      <td>714.000000</td>\n",
       "      <td>891.000000</td>\n",
       "      <td>891.000000</td>\n",
       "      <td>891.000000</td>\n",
       "    </tr>\n",
       "    <tr>\n",
       "      <th>mean</th>\n",
       "      <td>446.000000</td>\n",
       "      <td>0.383838</td>\n",
       "      <td>2.308642</td>\n",
       "      <td>29.699118</td>\n",
       "      <td>0.523008</td>\n",
       "      <td>0.381594</td>\n",
       "      <td>32.204208</td>\n",
       "    </tr>\n",
       "    <tr>\n",
       "      <th>std</th>\n",
       "      <td>257.353842</td>\n",
       "      <td>0.486592</td>\n",
       "      <td>0.836071</td>\n",
       "      <td>14.526497</td>\n",
       "      <td>1.102743</td>\n",
       "      <td>0.806057</td>\n",
       "      <td>49.693429</td>\n",
       "    </tr>\n",
       "    <tr>\n",
       "      <th>min</th>\n",
       "      <td>1.000000</td>\n",
       "      <td>0.000000</td>\n",
       "      <td>1.000000</td>\n",
       "      <td>0.420000</td>\n",
       "      <td>0.000000</td>\n",
       "      <td>0.000000</td>\n",
       "      <td>0.000000</td>\n",
       "    </tr>\n",
       "    <tr>\n",
       "      <th>25%</th>\n",
       "      <td>223.500000</td>\n",
       "      <td>0.000000</td>\n",
       "      <td>2.000000</td>\n",
       "      <td>20.125000</td>\n",
       "      <td>0.000000</td>\n",
       "      <td>0.000000</td>\n",
       "      <td>7.910400</td>\n",
       "    </tr>\n",
       "    <tr>\n",
       "      <th>50%</th>\n",
       "      <td>446.000000</td>\n",
       "      <td>0.000000</td>\n",
       "      <td>3.000000</td>\n",
       "      <td>28.000000</td>\n",
       "      <td>0.000000</td>\n",
       "      <td>0.000000</td>\n",
       "      <td>14.454200</td>\n",
       "    </tr>\n",
       "    <tr>\n",
       "      <th>75%</th>\n",
       "      <td>668.500000</td>\n",
       "      <td>1.000000</td>\n",
       "      <td>3.000000</td>\n",
       "      <td>38.000000</td>\n",
       "      <td>1.000000</td>\n",
       "      <td>0.000000</td>\n",
       "      <td>31.000000</td>\n",
       "    </tr>\n",
       "    <tr>\n",
       "      <th>max</th>\n",
       "      <td>891.000000</td>\n",
       "      <td>1.000000</td>\n",
       "      <td>3.000000</td>\n",
       "      <td>80.000000</td>\n",
       "      <td>8.000000</td>\n",
       "      <td>6.000000</td>\n",
       "      <td>512.329200</td>\n",
       "    </tr>\n",
       "  </tbody>\n",
       "</table>\n",
       "</div>"
      ],
      "text/plain": [
       "       PassengerId    Survived      Pclass         Age       SibSp  \\\n",
       "count   891.000000  891.000000  891.000000  714.000000  891.000000   \n",
       "mean    446.000000    0.383838    2.308642   29.699118    0.523008   \n",
       "std     257.353842    0.486592    0.836071   14.526497    1.102743   \n",
       "min       1.000000    0.000000    1.000000    0.420000    0.000000   \n",
       "25%     223.500000    0.000000    2.000000   20.125000    0.000000   \n",
       "50%     446.000000    0.000000    3.000000   28.000000    0.000000   \n",
       "75%     668.500000    1.000000    3.000000   38.000000    1.000000   \n",
       "max     891.000000    1.000000    3.000000   80.000000    8.000000   \n",
       "\n",
       "            Parch        Fare  \n",
       "count  891.000000  891.000000  \n",
       "mean     0.381594   32.204208  \n",
       "std      0.806057   49.693429  \n",
       "min      0.000000    0.000000  \n",
       "25%      0.000000    7.910400  \n",
       "50%      0.000000   14.454200  \n",
       "75%      0.000000   31.000000  \n",
       "max      6.000000  512.329200  "
      ]
     },
     "execution_count": 10,
     "metadata": {},
     "output_type": "execute_result"
    }
   ],
   "source": [
    "train.describe()"
   ]
  },
  {
   "cell_type": "code",
   "execution_count": 4,
   "metadata": {},
   "outputs": [
    {
     "data": {
      "text/plain": [
       "array([[<matplotlib.axes._subplots.AxesSubplot object at 0x00000145B21B29B0>,\n",
       "        <matplotlib.axes._subplots.AxesSubplot object at 0x00000145B3998DD8>,\n",
       "        <matplotlib.axes._subplots.AxesSubplot object at 0x00000145B2EC53C8>],\n",
       "       [<matplotlib.axes._subplots.AxesSubplot object at 0x00000145B387FC18>,\n",
       "        <matplotlib.axes._subplots.AxesSubplot object at 0x00000145B2F81E80>,\n",
       "        <matplotlib.axes._subplots.AxesSubplot object at 0x00000145B2EA4128>],\n",
       "       [<matplotlib.axes._subplots.AxesSubplot object at 0x00000145B2BB0390>,\n",
       "        <matplotlib.axes._subplots.AxesSubplot object at 0x00000145B3437630>,\n",
       "        <matplotlib.axes._subplots.AxesSubplot object at 0x00000145B3437668>]],\n",
       "      dtype=object)"
      ]
     },
     "execution_count": 4,
     "metadata": {},
     "output_type": "execute_result"
    },
    {
     "data": {
      "image/png": "[encoded data removed]",
      "text/plain": [
       "<Figure size 720x576 with 9 Axes>"
      ]
     },
     "metadata": {
      "needs_background": "light"
     },
     "output_type": "display_data"
    }
   ],
   "source": [
    "train.hist(bins=50, figsize=(10,8))"
   ]
  },
  {
   "cell_type": "code",
   "execution_count": 8,
   "metadata": {},
   "outputs": [
    {
     "data": {
      "text/plain": [
       "Survived       1.000000\n",
       "Fare           0.257307\n",
       "Parch          0.081629\n",
       "PassengerId   -0.005007\n",
       "SibSp         -0.035322\n",
       "Age           -0.077221\n",
       "Pclass        -0.338481\n",
       "Name: Survived, dtype: float64"
      ]
     },
     "execution_count": 8,
     "metadata": {},
     "output_type": "execute_result"
    }
   ],
   "source": [
    "train.corr()['Survived'].sort_values(ascending = False)"
   ]
  },
  {
   "cell_type": "code",
   "execution_count": 727,
   "metadata": {},
   "outputs": [
    {
     "data": {
      "text/html": [
       "<div>\n",
       "<style scoped>\n",
       "    .dataframe tbody tr th:only-of-type {\n",
       "        vertical-align: middle;\n",
       "    }\n",
       "\n",
       "    .dataframe tbody tr th {\n",
       "        vertical-align: top;\n",
       "    }\n",
       "\n",
       "    .dataframe thead th {\n",
       "        text-align: right;\n",
       "    }\n",
       "</style>\n",
       "<table border=\"1\" class=\"dataframe\">\n",
       "  <thead>\n",
       "    <tr style=\"text-align: right;\">\n",
       "      <th></th>\n",
       "      <th>Age</th>\n",
       "      <th>Cabin</th>\n",
       "      <th>Embarked</th>\n",
       "      <th>Fare</th>\n",
       "      <th>Name</th>\n",
       "      <th>Parch</th>\n",
       "      <th>PassengerId</th>\n",
       "      <th>Pclass</th>\n",
       "      <th>Sex</th>\n",
       "      <th>SibSp</th>\n",
       "      <th>Survived</th>\n",
       "      <th>Ticket</th>\n",
       "    </tr>\n",
       "  </thead>\n",
       "  <tbody>\n",
       "    <tr>\n",
       "      <th>0</th>\n",
       "      <td>22.0</td>\n",
       "      <td>NaN</td>\n",
       "      <td>S</td>\n",
       "      <td>7.2500</td>\n",
       "      <td>Braund, Mr. Owen Harris</td>\n",
       "      <td>0</td>\n",
       "      <td>1</td>\n",
       "      <td>3</td>\n",
       "      <td>male</td>\n",
       "      <td>1</td>\n",
       "      <td>0.0</td>\n",
       "      <td>A/5 21171</td>\n",
       "    </tr>\n",
       "    <tr>\n",
       "      <th>1</th>\n",
       "      <td>38.0</td>\n",
       "      <td>C85</td>\n",
       "      <td>C</td>\n",
       "      <td>71.2833</td>\n",
       "      <td>Cumings, Mrs. John Bradley (Florence Briggs Th...</td>\n",
       "      <td>0</td>\n",
       "      <td>2</td>\n",
       "      <td>1</td>\n",
       "      <td>female</td>\n",
       "      <td>1</td>\n",
       "      <td>1.0</td>\n",
       "      <td>PC 17599</td>\n",
       "    </tr>\n",
       "    <tr>\n",
       "      <th>2</th>\n",
       "      <td>26.0</td>\n",
       "      <td>NaN</td>\n",
       "      <td>S</td>\n",
       "      <td>7.9250</td>\n",
       "      <td>Heikkinen, Miss. Laina</td>\n",
       "      <td>0</td>\n",
       "      <td>3</td>\n",
       "      <td>3</td>\n",
       "      <td>female</td>\n",
       "      <td>0</td>\n",
       "      <td>1.0</td>\n",
       "      <td>STON/O2. 3101282</td>\n",
       "    </tr>\n",
       "    <tr>\n",
       "      <th>3</th>\n",
       "      <td>35.0</td>\n",
       "      <td>C123</td>\n",
       "      <td>S</td>\n",
       "      <td>53.1000</td>\n",
       "      <td>Futrelle, Mrs. Jacques Heath (Lily May Peel)</td>\n",
       "      <td>0</td>\n",
       "      <td>4</td>\n",
       "      <td>1</td>\n",
       "      <td>female</td>\n",
       "      <td>1</td>\n",
       "      <td>1.0</td>\n",
       "      <td>113803</td>\n",
       "    </tr>\n",
       "    <tr>\n",
       "      <th>4</th>\n",
       "      <td>35.0</td>\n",
       "      <td>NaN</td>\n",
       "      <td>S</td>\n",
       "      <td>8.0500</td>\n",
       "      <td>Allen, Mr. William Henry</td>\n",
       "      <td>0</td>\n",
       "      <td>5</td>\n",
       "      <td>3</td>\n",
       "      <td>male</td>\n",
       "      <td>0</td>\n",
       "      <td>0.0</td>\n",
       "      <td>373450</td>\n",
       "    </tr>\n",
       "  </tbody>\n",
       "</table>\n",
       "</div>"
      ],
      "text/plain": [
       "    Age Cabin Embarked     Fare  \\\n",
       "0  22.0   NaN        S   7.2500   \n",
       "1  38.0   C85        C  71.2833   \n",
       "2  26.0   NaN        S   7.9250   \n",
       "3  35.0  C123        S  53.1000   \n",
       "4  35.0   NaN        S   8.0500   \n",
       "\n",
       "                                                Name  Parch  PassengerId  \\\n",
       "0                            Braund, Mr. Owen Harris      0            1   \n",
       "1  Cumings, Mrs. John Bradley (Florence Briggs Th...      0            2   \n",
       "2                             Heikkinen, Miss. Laina      0            3   \n",
       "3       Futrelle, Mrs. Jacques Heath (Lily May Peel)      0            4   \n",
       "4                           Allen, Mr. William Henry      0            5   \n",
       "\n",
       "   Pclass     Sex  SibSp  Survived            Ticket  \n",
       "0       3    male      1       0.0         A/5 21171  \n",
       "1       1  female      1       1.0          PC 17599  \n",
       "2       3  female      0       1.0  STON/O2. 3101282  \n",
       "3       1  female      1       1.0            113803  \n",
       "4       3    male      0       0.0            373450  "
      ]
     },
     "execution_count": 727,
     "metadata": {},
     "output_type": "execute_result"
    }
   ],
   "source": [
    "data = train.append(test, sort= True)\n",
    "data.head()"
   ]
  },
  {
   "cell_type": "code",
   "execution_count": 728,
   "metadata": {},
   "outputs": [
    {
     "data": {
      "text/html": [
       "<div>\n",
       "<style scoped>\n",
       "    .dataframe tbody tr th:only-of-type {\n",
       "        vertical-align: middle;\n",
       "    }\n",
       "\n",
       "    .dataframe tbody tr th {\n",
       "        vertical-align: top;\n",
       "    }\n",
       "\n",
       "    .dataframe thead th {\n",
       "        text-align: right;\n",
       "    }\n",
       "</style>\n",
       "<table border=\"1\" class=\"dataframe\">\n",
       "  <thead>\n",
       "    <tr style=\"text-align: right;\">\n",
       "      <th></th>\n",
       "      <th>Age</th>\n",
       "      <th>Cabin</th>\n",
       "      <th>Embarked</th>\n",
       "      <th>Fare</th>\n",
       "      <th>Name</th>\n",
       "      <th>Parch</th>\n",
       "      <th>PassengerId</th>\n",
       "      <th>Pclass</th>\n",
       "      <th>Sex</th>\n",
       "      <th>SibSp</th>\n",
       "      <th>Survived</th>\n",
       "      <th>Ticket</th>\n",
       "    </tr>\n",
       "  </thead>\n",
       "  <tbody>\n",
       "    <tr>\n",
       "      <th>1304</th>\n",
       "      <td>NaN</td>\n",
       "      <td>NaN</td>\n",
       "      <td>S</td>\n",
       "      <td>8.0500</td>\n",
       "      <td>Spector, Mr. Woolf</td>\n",
       "      <td>0</td>\n",
       "      <td>1305</td>\n",
       "      <td>3</td>\n",
       "      <td>male</td>\n",
       "      <td>0</td>\n",
       "      <td>NaN</td>\n",
       "      <td>A.5. 3236</td>\n",
       "    </tr>\n",
       "    <tr>\n",
       "      <th>1305</th>\n",
       "      <td>39.0</td>\n",
       "      <td>C105</td>\n",
       "      <td>C</td>\n",
       "      <td>108.9000</td>\n",
       "      <td>Oliva y Ocana, Dona. Fermina</td>\n",
       "      <td>0</td>\n",
       "      <td>1306</td>\n",
       "      <td>1</td>\n",
       "      <td>female</td>\n",
       "      <td>0</td>\n",
       "      <td>NaN</td>\n",
       "      <td>PC 17758</td>\n",
       "    </tr>\n",
       "    <tr>\n",
       "      <th>1306</th>\n",
       "      <td>38.5</td>\n",
       "      <td>NaN</td>\n",
       "      <td>S</td>\n",
       "      <td>7.2500</td>\n",
       "      <td>Saether, Mr. Simon Sivertsen</td>\n",
       "      <td>0</td>\n",
       "      <td>1307</td>\n",
       "      <td>3</td>\n",
       "      <td>male</td>\n",
       "      <td>0</td>\n",
       "      <td>NaN</td>\n",
       "      <td>SOTON/O.Q. 3101262</td>\n",
       "    </tr>\n",
       "    <tr>\n",
       "      <th>1307</th>\n",
       "      <td>NaN</td>\n",
       "      <td>NaN</td>\n",
       "      <td>S</td>\n",
       "      <td>8.0500</td>\n",
       "      <td>Ware, Mr. Frederick</td>\n",
       "      <td>0</td>\n",
       "      <td>1308</td>\n",
       "      <td>3</td>\n",
       "      <td>male</td>\n",
       "      <td>0</td>\n",
       "      <td>NaN</td>\n",
       "      <td>359309</td>\n",
       "    </tr>\n",
       "    <tr>\n",
       "      <th>1308</th>\n",
       "      <td>NaN</td>\n",
       "      <td>NaN</td>\n",
       "      <td>C</td>\n",
       "      <td>22.3583</td>\n",
       "      <td>Peter, Master. Michael J</td>\n",
       "      <td>1</td>\n",
       "      <td>1309</td>\n",
       "      <td>3</td>\n",
       "      <td>male</td>\n",
       "      <td>1</td>\n",
       "      <td>NaN</td>\n",
       "      <td>2668</td>\n",
       "    </tr>\n",
       "  </tbody>\n",
       "</table>\n",
       "</div>"
      ],
      "text/plain": [
       "       Age Cabin Embarked      Fare                          Name  Parch  \\\n",
       "1304   NaN   NaN        S    8.0500            Spector, Mr. Woolf      0   \n",
       "1305  39.0  C105        C  108.9000  Oliva y Ocana, Dona. Fermina      0   \n",
       "1306  38.5   NaN        S    7.2500  Saether, Mr. Simon Sivertsen      0   \n",
       "1307   NaN   NaN        S    8.0500           Ware, Mr. Frederick      0   \n",
       "1308   NaN   NaN        C   22.3583      Peter, Master. Michael J      1   \n",
       "\n",
       "      PassengerId  Pclass     Sex  SibSp  Survived              Ticket  \n",
       "1304         1305       3    male      0       NaN           A.5. 3236  \n",
       "1305         1306       1  female      0       NaN            PC 17758  \n",
       "1306         1307       3    male      0       NaN  SOTON/O.Q. 3101262  \n",
       "1307         1308       3    male      0       NaN              359309  \n",
       "1308         1309       3    male      1       NaN                2668  "
      ]
     },
     "execution_count": 728,
     "metadata": {},
     "output_type": "execute_result"
    }
   ],
   "source": [
    "data.reset_index(inplace = True, drop = True)\n",
    "data.tail()"
   ]
  },
  {
   "cell_type": "code",
   "execution_count": 729,
   "metadata": {},
   "outputs": [
    {
     "data": {
      "text/plain": [
       "<matplotlib.axes._subplots.AxesSubplot at 0x2a9e7304780>"
      ]
     },
     "execution_count": 729,
     "metadata": {},
     "output_type": "execute_result"
    },
    {
     "data": {
      "image/png": "[encoded data removed]",
      "text/plain": [
       "<Figure size 432x288 with 1 Axes>"
      ]
     },
     "metadata": {
      "needs_background": "light"
     },
     "output_type": "display_data"
    }
   ],
   "source": [
    "sns.countplot(data['Sex'], hue = data['Survived'])"
   ]
  },
  {
   "cell_type": "code",
   "execution_count": 730,
   "metadata": {},
   "outputs": [
    {
     "data": {
      "text/plain": [
       "<seaborn.axisgrid.FacetGrid at 0x2a9e7cb17b8>"
      ]
     },
     "execution_count": 730,
     "metadata": {},
     "output_type": "execute_result"
    },
    {
     "data": {
      "image/png": "[encoded data removed]",
      "text/plain": [
       "<Figure size 432x216 with 2 Axes>"
      ]
     },
     "metadata": {
      "needs_background": "light"
     },
     "output_type": "display_data"
    }
   ],
   "source": [
    "g = sns.FacetGrid(data, col = 'Survived')\n",
    "g.map(sns.distplot, 'Age')"
   ]
  },
  {
   "cell_type": "code",
   "execution_count": 731,
   "metadata": {},
   "outputs": [
    {
     "data": {
      "text/plain": [
       "<seaborn.axisgrid.FacetGrid at 0x2a9e8021278>"
      ]
     },
     "execution_count": 731,
     "metadata": {},
     "output_type": "execute_result"
    },
    {
     "data": {
      "image/png": "[encoded data removed]",
      "text/plain": [
       "<Figure size 432x216 with 2 Axes>"
      ]
     },
     "metadata": {
      "needs_background": "light"
     },
     "output_type": "display_data"
    }
   ],
   "source": [
    "g = sns.FacetGrid(data, col = 'Survived')\n",
    "g.map(sns.distplot, 'Parch')"
   ]
  },
  {
   "cell_type": "code",
   "execution_count": 732,
   "metadata": {},
   "outputs": [
    {
     "data": {
      "text/plain": [
       "<seaborn.axisgrid.FacetGrid at 0x2a9e80ef860>"
      ]
     },
     "execution_count": 732,
     "metadata": {},
     "output_type": "execute_result"
    },
    {
     "data": {
      "image/png": "[encoded data removed]",
      "text/plain": [
       "<Figure size 432x216 with 2 Axes>"
      ]
     },
     "metadata": {
      "needs_background": "light"
     },
     "output_type": "display_data"
    }
   ],
   "source": [
    "g = sns.FacetGrid(data, col = 'Survived')\n",
    "g.map(sns.distplot, 'SibSp')"
   ]
  },
  {
   "cell_type": "code",
   "execution_count": 733,
   "metadata": {},
   "outputs": [],
   "source": [
    "data['Family_size'] = data['Parch'] + data['SibSp']"
   ]
  },
  {
   "cell_type": "code",
   "execution_count": 734,
   "metadata": {
    "scrolled": true
   },
   "outputs": [
    {
     "data": {
      "text/plain": [
       "<seaborn.axisgrid.FacetGrid at 0x2a9e8256320>"
      ]
     },
     "execution_count": 734,
     "metadata": {},
     "output_type": "execute_result"
    },
    {
     "data": {
      "image/png": "[encoded data removed]",
      "text/plain": [
       "<Figure size 432x216 with 2 Axes>"
      ]
     },
     "metadata": {
      "needs_background": "light"
     },
     "output_type": "display_data"
    }
   ],
   "source": [
    "g = sns.FacetGrid(data, col= 'Survived')\n",
    "g.map(sns.distplot, 'Family_size', kde= False)"
   ]
  },
  {
   "cell_type": "markdown",
   "metadata": {},
   "source": [
    "# Feature Engineering"
   ]
  },
  {
   "cell_type": "code",
   "execution_count": 735,
   "metadata": {},
   "outputs": [
    {
     "data": {
      "text/plain": [
       "0                              Braund, Mr. Owen Harris\n",
       "1    Cumings, Mrs. John Bradley (Florence Briggs Th...\n",
       "2                               Heikkinen, Miss. Laina\n",
       "3         Futrelle, Mrs. Jacques Heath (Lily May Peel)\n",
       "4                             Allen, Mr. William Henry\n",
       "Name: Name, dtype: object"
      ]
     },
     "execution_count": 735,
     "metadata": {},
     "output_type": "execute_result"
    }
   ],
   "source": [
    "data['Name'].head()"
   ]
  },
  {
   "cell_type": "code",
   "execution_count": 736,
   "metadata": {},
   "outputs": [],
   "source": [
    "data['Title1'] = data[\"Name\"].str.split(\", \", expand = True)[1]"
   ]
  },
  {
   "cell_type": "code",
   "execution_count": 737,
   "metadata": {},
   "outputs": [
    {
     "data": {
      "text/plain": [
       "0                               Mr. Owen Harris\n",
       "1    Mrs. John Bradley (Florence Briggs Thayer)\n",
       "2                                   Miss. Laina\n",
       "3            Mrs. Jacques Heath (Lily May Peel)\n",
       "4                             Mr. William Henry\n",
       "Name: Title1, dtype: object"
      ]
     },
     "execution_count": 737,
     "metadata": {},
     "output_type": "execute_result"
    }
   ],
   "source": [
    "data['Title1'].head()"
   ]
  },
  {
   "cell_type": "code",
   "execution_count": 738,
   "metadata": {},
   "outputs": [],
   "source": [
    "data['Title1'] = data['Title1'].str.split('.', expand = True)[0]"
   ]
  },
  {
   "cell_type": "code",
   "execution_count": 739,
   "metadata": {},
   "outputs": [
    {
     "data": {
      "text/plain": [
       "0      Mr\n",
       "1     Mrs\n",
       "2    Miss\n",
       "3     Mrs\n",
       "4      Mr\n",
       "Name: Title1, dtype: object"
      ]
     },
     "execution_count": 739,
     "metadata": {},
     "output_type": "execute_result"
    }
   ],
   "source": [
    "data['Title1'].head()"
   ]
  },
  {
   "cell_type": "code",
   "execution_count": 740,
   "metadata": {},
   "outputs": [
    {
     "data": {
      "text/plain": [
       "array(['Mr', 'Mrs', 'Miss', 'Master', 'Don', 'Rev', 'Dr', 'Mme', 'Ms',\n",
       "       'Major', 'Lady', 'Sir', 'Mlle', 'Col', 'Capt', 'the Countess',\n",
       "       'Jonkheer', 'Dona'], dtype=object)"
      ]
     },
     "execution_count": 740,
     "metadata": {},
     "output_type": "execute_result"
    }
   ],
   "source": [
    "data['Title1'].unique()"
   ]
  },
  {
   "cell_type": "code",
   "execution_count": 741,
   "metadata": {},
   "outputs": [
    {
     "data": {
      "text/html": [
       "<style  type=\"text/css\" >\n",
       "    #T_69e955b4_97ef_11e9_9fa6_dc4a3e57f625row0_col0 {\n",
       "            background-color:  #ffff66;\n",
       "            color:  #000000;\n",
       "        }    #T_69e955b4_97ef_11e9_9fa6_dc4a3e57f625row0_col1 {\n",
       "            background-color:  #ffff66;\n",
       "            color:  #000000;\n",
       "        }    #T_69e955b4_97ef_11e9_9fa6_dc4a3e57f625row0_col2 {\n",
       "            background-color:  #ffff66;\n",
       "            color:  #000000;\n",
       "        }    #T_69e955b4_97ef_11e9_9fa6_dc4a3e57f625row0_col3 {\n",
       "            background-color:  #008066;\n",
       "            color:  #f1f1f1;\n",
       "        }    #T_69e955b4_97ef_11e9_9fa6_dc4a3e57f625row0_col4 {\n",
       "            background-color:  #ffff66;\n",
       "            color:  #000000;\n",
       "        }    #T_69e955b4_97ef_11e9_9fa6_dc4a3e57f625row0_col5 {\n",
       "            background-color:  #ffff66;\n",
       "            color:  #000000;\n",
       "        }    #T_69e955b4_97ef_11e9_9fa6_dc4a3e57f625row0_col6 {\n",
       "            background-color:  #008066;\n",
       "            color:  #f1f1f1;\n",
       "        }    #T_69e955b4_97ef_11e9_9fa6_dc4a3e57f625row0_col7 {\n",
       "            background-color:  #ffff66;\n",
       "            color:  #000000;\n",
       "        }    #T_69e955b4_97ef_11e9_9fa6_dc4a3e57f625row0_col8 {\n",
       "            background-color:  #ffff66;\n",
       "            color:  #000000;\n",
       "        }    #T_69e955b4_97ef_11e9_9fa6_dc4a3e57f625row0_col9 {\n",
       "            background-color:  #008066;\n",
       "            color:  #f1f1f1;\n",
       "        }    #T_69e955b4_97ef_11e9_9fa6_dc4a3e57f625row0_col10 {\n",
       "            background-color:  #008066;\n",
       "            color:  #f1f1f1;\n",
       "        }    #T_69e955b4_97ef_11e9_9fa6_dc4a3e57f625row0_col11 {\n",
       "            background-color:  #008066;\n",
       "            color:  #f1f1f1;\n",
       "        }    #T_69e955b4_97ef_11e9_9fa6_dc4a3e57f625row0_col12 {\n",
       "            background-color:  #ffff66;\n",
       "            color:  #000000;\n",
       "        }    #T_69e955b4_97ef_11e9_9fa6_dc4a3e57f625row0_col13 {\n",
       "            background-color:  #008066;\n",
       "            color:  #f1f1f1;\n",
       "        }    #T_69e955b4_97ef_11e9_9fa6_dc4a3e57f625row0_col14 {\n",
       "            background-color:  #008066;\n",
       "            color:  #f1f1f1;\n",
       "        }    #T_69e955b4_97ef_11e9_9fa6_dc4a3e57f625row0_col15 {\n",
       "            background-color:  #ffff66;\n",
       "            color:  #000000;\n",
       "        }    #T_69e955b4_97ef_11e9_9fa6_dc4a3e57f625row0_col16 {\n",
       "            background-color:  #ffff66;\n",
       "            color:  #000000;\n",
       "        }    #T_69e955b4_97ef_11e9_9fa6_dc4a3e57f625row0_col17 {\n",
       "            background-color:  #008066;\n",
       "            color:  #f1f1f1;\n",
       "        }    #T_69e955b4_97ef_11e9_9fa6_dc4a3e57f625row1_col0 {\n",
       "            background-color:  #008066;\n",
       "            color:  #f1f1f1;\n",
       "        }    #T_69e955b4_97ef_11e9_9fa6_dc4a3e57f625row1_col1 {\n",
       "            background-color:  #008066;\n",
       "            color:  #f1f1f1;\n",
       "        }    #T_69e955b4_97ef_11e9_9fa6_dc4a3e57f625row1_col2 {\n",
       "            background-color:  #008066;\n",
       "            color:  #f1f1f1;\n",
       "        }    #T_69e955b4_97ef_11e9_9fa6_dc4a3e57f625row1_col3 {\n",
       "            background-color:  #ffff66;\n",
       "            color:  #000000;\n",
       "        }    #T_69e955b4_97ef_11e9_9fa6_dc4a3e57f625row1_col4 {\n",
       "            background-color:  #008066;\n",
       "            color:  #f1f1f1;\n",
       "        }    #T_69e955b4_97ef_11e9_9fa6_dc4a3e57f625row1_col5 {\n",
       "            background-color:  #008066;\n",
       "            color:  #f1f1f1;\n",
       "        }    #T_69e955b4_97ef_11e9_9fa6_dc4a3e57f625row1_col6 {\n",
       "            background-color:  #ffff66;\n",
       "            color:  #000000;\n",
       "        }    #T_69e955b4_97ef_11e9_9fa6_dc4a3e57f625row1_col7 {\n",
       "            background-color:  #008066;\n",
       "            color:  #f1f1f1;\n",
       "        }    #T_69e955b4_97ef_11e9_9fa6_dc4a3e57f625row1_col8 {\n",
       "            background-color:  #008066;\n",
       "            color:  #f1f1f1;\n",
       "        }    #T_69e955b4_97ef_11e9_9fa6_dc4a3e57f625row1_col9 {\n",
       "            background-color:  #ffff66;\n",
       "            color:  #000000;\n",
       "        }    #T_69e955b4_97ef_11e9_9fa6_dc4a3e57f625row1_col10 {\n",
       "            background-color:  #ffff66;\n",
       "            color:  #000000;\n",
       "        }    #T_69e955b4_97ef_11e9_9fa6_dc4a3e57f625row1_col11 {\n",
       "            background-color:  #ffff66;\n",
       "            color:  #000000;\n",
       "        }    #T_69e955b4_97ef_11e9_9fa6_dc4a3e57f625row1_col12 {\n",
       "            background-color:  #008066;\n",
       "            color:  #f1f1f1;\n",
       "        }    #T_69e955b4_97ef_11e9_9fa6_dc4a3e57f625row1_col13 {\n",
       "            background-color:  #ffff66;\n",
       "            color:  #000000;\n",
       "        }    #T_69e955b4_97ef_11e9_9fa6_dc4a3e57f625row1_col14 {\n",
       "            background-color:  #ffff66;\n",
       "            color:  #000000;\n",
       "        }    #T_69e955b4_97ef_11e9_9fa6_dc4a3e57f625row1_col15 {\n",
       "            background-color:  #008066;\n",
       "            color:  #f1f1f1;\n",
       "        }    #T_69e955b4_97ef_11e9_9fa6_dc4a3e57f625row1_col16 {\n",
       "            background-color:  #008066;\n",
       "            color:  #f1f1f1;\n",
       "        }    #T_69e955b4_97ef_11e9_9fa6_dc4a3e57f625row1_col17 {\n",
       "            background-color:  #ffff66;\n",
       "            color:  #000000;\n",
       "        }</style><table id=\"T_69e955b4_97ef_11e9_9fa6_dc4a3e57f625\" ><thead>    <tr>        <th class=\"index_name level0\" >Title1</th>        <th class=\"col_heading level0 col0\" >Capt</th>        <th class=\"col_heading level0 col1\" >Col</th>        <th class=\"col_heading level0 col2\" >Don</th>        <th class=\"col_heading level0 col3\" >Dona</th>        <th class=\"col_heading level0 col4\" >Dr</th>        <th class=\"col_heading level0 col5\" >Jonkheer</th>        <th class=\"col_heading level0 col6\" >Lady</th>        <th class=\"col_heading level0 col7\" >Major</th>        <th class=\"col_heading level0 col8\" >Master</th>        <th class=\"col_heading level0 col9\" >Miss</th>        <th class=\"col_heading level0 col10\" >Mlle</th>        <th class=\"col_heading level0 col11\" >Mme</th>        <th class=\"col_heading level0 col12\" >Mr</th>        <th class=\"col_heading level0 col13\" >Mrs</th>        <th class=\"col_heading level0 col14\" >Ms</th>        <th class=\"col_heading level0 col15\" >Rev</th>        <th class=\"col_heading level0 col16\" >Sir</th>        <th class=\"col_heading level0 col17\" >the Countess</th>    </tr>    <tr>        <th class=\"index_name level0\" >Sex</th>        <th class=\"blank\" ></th>        <th class=\"blank\" ></th>        <th class=\"blank\" ></th>        <th class=\"blank\" ></th>        <th class=\"blank\" ></th>        <th class=\"blank\" ></th>        <th class=\"blank\" ></th>        <th class=\"blank\" ></th>        <th class=\"blank\" ></th>        <th class=\"blank\" ></th>        <th class=\"blank\" ></th>        <th class=\"blank\" ></th>        <th class=\"blank\" ></th>        <th class=\"blank\" ></th>        <th class=\"blank\" ></th>        <th class=\"blank\" ></th>        <th class=\"blank\" ></th>        <th class=\"blank\" ></th>    </tr></thead><tbody>\n",
       "                <tr>\n",
       "                        <th id=\"T_69e955b4_97ef_11e9_9fa6_dc4a3e57f625level0_row0\" class=\"row_heading level0 row0\" >female</th>\n",
       "                        <td id=\"T_69e955b4_97ef_11e9_9fa6_dc4a3e57f625row0_col0\" class=\"data row0 col0\" >0</td>\n",
       "                        <td id=\"T_69e955b4_97ef_11e9_9fa6_dc4a3e57f625row0_col1\" class=\"data row0 col1\" >0</td>\n",
       "                        <td id=\"T_69e955b4_97ef_11e9_9fa6_dc4a3e57f625row0_col2\" class=\"data row0 col2\" >0</td>\n",
       "                        <td id=\"T_69e955b4_97ef_11e9_9fa6_dc4a3e57f625row0_col3\" class=\"data row0 col3\" >1</td>\n",
       "                        <td id=\"T_69e955b4_97ef_11e9_9fa6_dc4a3e57f625row0_col4\" class=\"data row0 col4\" >1</td>\n",
       "                        <td id=\"T_69e955b4_97ef_11e9_9fa6_dc4a3e57f625row0_col5\" class=\"data row0 col5\" >0</td>\n",
       "                        <td id=\"T_69e955b4_97ef_11e9_9fa6_dc4a3e57f625row0_col6\" class=\"data row0 col6\" >1</td>\n",
       "                        <td id=\"T_69e955b4_97ef_11e9_9fa6_dc4a3e57f625row0_col7\" class=\"data row0 col7\" >0</td>\n",
       "                        <td id=\"T_69e955b4_97ef_11e9_9fa6_dc4a3e57f625row0_col8\" class=\"data row0 col8\" >0</td>\n",
       "                        <td id=\"T_69e955b4_97ef_11e9_9fa6_dc4a3e57f625row0_col9\" class=\"data row0 col9\" >260</td>\n",
       "                        <td id=\"T_69e955b4_97ef_11e9_9fa6_dc4a3e57f625row0_col10\" class=\"data row0 col10\" >2</td>\n",
       "                        <td id=\"T_69e955b4_97ef_11e9_9fa6_dc4a3e57f625row0_col11\" class=\"data row0 col11\" >1</td>\n",
       "                        <td id=\"T_69e955b4_97ef_11e9_9fa6_dc4a3e57f625row0_col12\" class=\"data row0 col12\" >0</td>\n",
       "                        <td id=\"T_69e955b4_97ef_11e9_9fa6_dc4a3e57f625row0_col13\" class=\"data row0 col13\" >197</td>\n",
       "                        <td id=\"T_69e955b4_97ef_11e9_9fa6_dc4a3e57f625row0_col14\" class=\"data row0 col14\" >2</td>\n",
       "                        <td id=\"T_69e955b4_97ef_11e9_9fa6_dc4a3e57f625row0_col15\" class=\"data row0 col15\" >0</td>\n",
       "                        <td id=\"T_69e955b4_97ef_11e9_9fa6_dc4a3e57f625row0_col16\" class=\"data row0 col16\" >0</td>\n",
       "                        <td id=\"T_69e955b4_97ef_11e9_9fa6_dc4a3e57f625row0_col17\" class=\"data row0 col17\" >1</td>\n",
       "            </tr>\n",
       "            <tr>\n",
       "                        <th id=\"T_69e955b4_97ef_11e9_9fa6_dc4a3e57f625level0_row1\" class=\"row_heading level0 row1\" >male</th>\n",
       "                        <td id=\"T_69e955b4_97ef_11e9_9fa6_dc4a3e57f625row1_col0\" class=\"data row1 col0\" >1</td>\n",
       "                        <td id=\"T_69e955b4_97ef_11e9_9fa6_dc4a3e57f625row1_col1\" class=\"data row1 col1\" >4</td>\n",
       "                        <td id=\"T_69e955b4_97ef_11e9_9fa6_dc4a3e57f625row1_col2\" class=\"data row1 col2\" >1</td>\n",
       "                        <td id=\"T_69e955b4_97ef_11e9_9fa6_dc4a3e57f625row1_col3\" class=\"data row1 col3\" >0</td>\n",
       "                        <td id=\"T_69e955b4_97ef_11e9_9fa6_dc4a3e57f625row1_col4\" class=\"data row1 col4\" >7</td>\n",
       "                        <td id=\"T_69e955b4_97ef_11e9_9fa6_dc4a3e57f625row1_col5\" class=\"data row1 col5\" >1</td>\n",
       "                        <td id=\"T_69e955b4_97ef_11e9_9fa6_dc4a3e57f625row1_col6\" class=\"data row1 col6\" >0</td>\n",
       "                        <td id=\"T_69e955b4_97ef_11e9_9fa6_dc4a3e57f625row1_col7\" class=\"data row1 col7\" >2</td>\n",
       "                        <td id=\"T_69e955b4_97ef_11e9_9fa6_dc4a3e57f625row1_col8\" class=\"data row1 col8\" >61</td>\n",
       "                        <td id=\"T_69e955b4_97ef_11e9_9fa6_dc4a3e57f625row1_col9\" class=\"data row1 col9\" >0</td>\n",
       "                        <td id=\"T_69e955b4_97ef_11e9_9fa6_dc4a3e57f625row1_col10\" class=\"data row1 col10\" >0</td>\n",
       "                        <td id=\"T_69e955b4_97ef_11e9_9fa6_dc4a3e57f625row1_col11\" class=\"data row1 col11\" >0</td>\n",
       "                        <td id=\"T_69e955b4_97ef_11e9_9fa6_dc4a3e57f625row1_col12\" class=\"data row1 col12\" >757</td>\n",
       "                        <td id=\"T_69e955b4_97ef_11e9_9fa6_dc4a3e57f625row1_col13\" class=\"data row1 col13\" >0</td>\n",
       "                        <td id=\"T_69e955b4_97ef_11e9_9fa6_dc4a3e57f625row1_col14\" class=\"data row1 col14\" >0</td>\n",
       "                        <td id=\"T_69e955b4_97ef_11e9_9fa6_dc4a3e57f625row1_col15\" class=\"data row1 col15\" >8</td>\n",
       "                        <td id=\"T_69e955b4_97ef_11e9_9fa6_dc4a3e57f625row1_col16\" class=\"data row1 col16\" >1</td>\n",
       "                        <td id=\"T_69e955b4_97ef_11e9_9fa6_dc4a3e57f625row1_col17\" class=\"data row1 col17\" >0</td>\n",
       "            </tr>\n",
       "    </tbody></table>"
      ],
      "text/plain": [
       "<pandas.io.formats.style.Styler at 0x2a9e84147b8>"
      ]
     },
     "execution_count": 741,
     "metadata": {},
     "output_type": "execute_result"
    }
   ],
   "source": [
    "pd.crosstab(data['Title1'], data['Sex']).T.style.background_gradient(cmap = 'summer_r')"
   ]
  },
  {
   "cell_type": "code",
   "execution_count": 742,
   "metadata": {},
   "outputs": [
    {
     "data": {
      "text/html": [
       "<style  type=\"text/css\" >\n",
       "    #T_69f499a4_97ef_11e9_90dd_dc4a3e57f625row0_col0 {\n",
       "            background-color:  #008066;\n",
       "            color:  #f1f1f1;\n",
       "        }    #T_69f499a4_97ef_11e9_90dd_dc4a3e57f625row0_col1 {\n",
       "            background-color:  #ffff66;\n",
       "            color:  #000000;\n",
       "        }    #T_69f499a4_97ef_11e9_90dd_dc4a3e57f625row0_col2 {\n",
       "            background-color:  #008066;\n",
       "            color:  #f1f1f1;\n",
       "        }    #T_69f499a4_97ef_11e9_90dd_dc4a3e57f625row0_col3 {\n",
       "            background-color:  #008066;\n",
       "            color:  #f1f1f1;\n",
       "        }    #T_69f499a4_97ef_11e9_90dd_dc4a3e57f625row0_col4 {\n",
       "            background-color:  #008066;\n",
       "            color:  #f1f1f1;\n",
       "        }    #T_69f499a4_97ef_11e9_90dd_dc4a3e57f625row0_col5 {\n",
       "            background-color:  #ffff66;\n",
       "            color:  #000000;\n",
       "        }    #T_69f499a4_97ef_11e9_90dd_dc4a3e57f625row0_col6 {\n",
       "            background-color:  #ffff66;\n",
       "            color:  #000000;\n",
       "        }    #T_69f499a4_97ef_11e9_90dd_dc4a3e57f625row0_col7 {\n",
       "            background-color:  #ffff66;\n",
       "            color:  #000000;\n",
       "        }    #T_69f499a4_97ef_11e9_90dd_dc4a3e57f625row0_col8 {\n",
       "            background-color:  #ffff66;\n",
       "            color:  #000000;\n",
       "        }    #T_69f499a4_97ef_11e9_90dd_dc4a3e57f625row0_col9 {\n",
       "            background-color:  #ffff66;\n",
       "            color:  #000000;\n",
       "        }    #T_69f499a4_97ef_11e9_90dd_dc4a3e57f625row0_col10 {\n",
       "            background-color:  #ffff66;\n",
       "            color:  #000000;\n",
       "        }    #T_69f499a4_97ef_11e9_90dd_dc4a3e57f625row0_col11 {\n",
       "            background-color:  #008066;\n",
       "            color:  #f1f1f1;\n",
       "        }    #T_69f499a4_97ef_11e9_90dd_dc4a3e57f625row0_col12 {\n",
       "            background-color:  #ffff66;\n",
       "            color:  #000000;\n",
       "        }    #T_69f499a4_97ef_11e9_90dd_dc4a3e57f625row0_col13 {\n",
       "            background-color:  #ffff66;\n",
       "            color:  #000000;\n",
       "        }    #T_69f499a4_97ef_11e9_90dd_dc4a3e57f625row0_col14 {\n",
       "            background-color:  #008066;\n",
       "            color:  #f1f1f1;\n",
       "        }    #T_69f499a4_97ef_11e9_90dd_dc4a3e57f625row0_col15 {\n",
       "            background-color:  #ffff66;\n",
       "            color:  #000000;\n",
       "        }    #T_69f499a4_97ef_11e9_90dd_dc4a3e57f625row0_col16 {\n",
       "            background-color:  #ffff66;\n",
       "            color:  #000000;\n",
       "        }    #T_69f499a4_97ef_11e9_90dd_dc4a3e57f625row1_col0 {\n",
       "            background-color:  #ffff66;\n",
       "            color:  #000000;\n",
       "        }    #T_69f499a4_97ef_11e9_90dd_dc4a3e57f625row1_col1 {\n",
       "            background-color:  #ffff66;\n",
       "            color:  #000000;\n",
       "        }    #T_69f499a4_97ef_11e9_90dd_dc4a3e57f625row1_col2 {\n",
       "            background-color:  #ffff66;\n",
       "            color:  #000000;\n",
       "        }    #T_69f499a4_97ef_11e9_90dd_dc4a3e57f625row1_col3 {\n",
       "            background-color:  #ffff66;\n",
       "            color:  #000000;\n",
       "        }    #T_69f499a4_97ef_11e9_90dd_dc4a3e57f625row1_col4 {\n",
       "            background-color:  #ffff66;\n",
       "            color:  #000000;\n",
       "        }    #T_69f499a4_97ef_11e9_90dd_dc4a3e57f625row1_col5 {\n",
       "            background-color:  #008066;\n",
       "            color:  #f1f1f1;\n",
       "        }    #T_69f499a4_97ef_11e9_90dd_dc4a3e57f625row1_col6 {\n",
       "            background-color:  #ffff66;\n",
       "            color:  #000000;\n",
       "        }    #T_69f499a4_97ef_11e9_90dd_dc4a3e57f625row1_col7 {\n",
       "            background-color:  #008066;\n",
       "            color:  #f1f1f1;\n",
       "        }    #T_69f499a4_97ef_11e9_90dd_dc4a3e57f625row1_col8 {\n",
       "            background-color:  #008066;\n",
       "            color:  #f1f1f1;\n",
       "        }    #T_69f499a4_97ef_11e9_90dd_dc4a3e57f625row1_col9 {\n",
       "            background-color:  #008066;\n",
       "            color:  #f1f1f1;\n",
       "        }    #T_69f499a4_97ef_11e9_90dd_dc4a3e57f625row1_col10 {\n",
       "            background-color:  #008066;\n",
       "            color:  #f1f1f1;\n",
       "        }    #T_69f499a4_97ef_11e9_90dd_dc4a3e57f625row1_col11 {\n",
       "            background-color:  #ffff66;\n",
       "            color:  #000000;\n",
       "        }    #T_69f499a4_97ef_11e9_90dd_dc4a3e57f625row1_col12 {\n",
       "            background-color:  #008066;\n",
       "            color:  #f1f1f1;\n",
       "        }    #T_69f499a4_97ef_11e9_90dd_dc4a3e57f625row1_col13 {\n",
       "            background-color:  #008066;\n",
       "            color:  #f1f1f1;\n",
       "        }    #T_69f499a4_97ef_11e9_90dd_dc4a3e57f625row1_col14 {\n",
       "            background-color:  #ffff66;\n",
       "            color:  #000000;\n",
       "        }    #T_69f499a4_97ef_11e9_90dd_dc4a3e57f625row1_col15 {\n",
       "            background-color:  #008066;\n",
       "            color:  #f1f1f1;\n",
       "        }    #T_69f499a4_97ef_11e9_90dd_dc4a3e57f625row1_col16 {\n",
       "            background-color:  #008066;\n",
       "            color:  #f1f1f1;\n",
       "        }</style><table id=\"T_69f499a4_97ef_11e9_90dd_dc4a3e57f625\" ><thead>    <tr>        <th class=\"index_name level0\" >Title1</th>        <th class=\"col_heading level0 col0\" >Capt</th>        <th class=\"col_heading level0 col1\" >Col</th>        <th class=\"col_heading level0 col2\" >Don</th>        <th class=\"col_heading level0 col3\" >Dr</th>        <th class=\"col_heading level0 col4\" >Jonkheer</th>        <th class=\"col_heading level0 col5\" >Lady</th>        <th class=\"col_heading level0 col6\" >Major</th>        <th class=\"col_heading level0 col7\" >Master</th>        <th class=\"col_heading level0 col8\" >Miss</th>        <th class=\"col_heading level0 col9\" >Mlle</th>        <th class=\"col_heading level0 col10\" >Mme</th>        <th class=\"col_heading level0 col11\" >Mr</th>        <th class=\"col_heading level0 col12\" >Mrs</th>        <th class=\"col_heading level0 col13\" >Ms</th>        <th class=\"col_heading level0 col14\" >Rev</th>        <th class=\"col_heading level0 col15\" >Sir</th>        <th class=\"col_heading level0 col16\" >the Countess</th>    </tr>    <tr>        <th class=\"index_name level0\" >Survived</th>        <th class=\"blank\" ></th>        <th class=\"blank\" ></th>        <th class=\"blank\" ></th>        <th class=\"blank\" ></th>        <th class=\"blank\" ></th>        <th class=\"blank\" ></th>        <th class=\"blank\" ></th>        <th class=\"blank\" ></th>        <th class=\"blank\" ></th>        <th class=\"blank\" ></th>        <th class=\"blank\" ></th>        <th class=\"blank\" ></th>        <th class=\"blank\" ></th>        <th class=\"blank\" ></th>        <th class=\"blank\" ></th>        <th class=\"blank\" ></th>        <th class=\"blank\" ></th>    </tr></thead><tbody>\n",
       "                <tr>\n",
       "                        <th id=\"T_69f499a4_97ef_11e9_90dd_dc4a3e57f625level0_row0\" class=\"row_heading level0 row0\" >0.0</th>\n",
       "                        <td id=\"T_69f499a4_97ef_11e9_90dd_dc4a3e57f625row0_col0\" class=\"data row0 col0\" >1</td>\n",
       "                        <td id=\"T_69f499a4_97ef_11e9_90dd_dc4a3e57f625row0_col1\" class=\"data row0 col1\" >1</td>\n",
       "                        <td id=\"T_69f499a4_97ef_11e9_90dd_dc4a3e57f625row0_col2\" class=\"data row0 col2\" >1</td>\n",
       "                        <td id=\"T_69f499a4_97ef_11e9_90dd_dc4a3e57f625row0_col3\" class=\"data row0 col3\" >4</td>\n",
       "                        <td id=\"T_69f499a4_97ef_11e9_90dd_dc4a3e57f625row0_col4\" class=\"data row0 col4\" >1</td>\n",
       "                        <td id=\"T_69f499a4_97ef_11e9_90dd_dc4a3e57f625row0_col5\" class=\"data row0 col5\" >0</td>\n",
       "                        <td id=\"T_69f499a4_97ef_11e9_90dd_dc4a3e57f625row0_col6\" class=\"data row0 col6\" >1</td>\n",
       "                        <td id=\"T_69f499a4_97ef_11e9_90dd_dc4a3e57f625row0_col7\" class=\"data row0 col7\" >17</td>\n",
       "                        <td id=\"T_69f499a4_97ef_11e9_90dd_dc4a3e57f625row0_col8\" class=\"data row0 col8\" >55</td>\n",
       "                        <td id=\"T_69f499a4_97ef_11e9_90dd_dc4a3e57f625row0_col9\" class=\"data row0 col9\" >0</td>\n",
       "                        <td id=\"T_69f499a4_97ef_11e9_90dd_dc4a3e57f625row0_col10\" class=\"data row0 col10\" >0</td>\n",
       "                        <td id=\"T_69f499a4_97ef_11e9_90dd_dc4a3e57f625row0_col11\" class=\"data row0 col11\" >436</td>\n",
       "                        <td id=\"T_69f499a4_97ef_11e9_90dd_dc4a3e57f625row0_col12\" class=\"data row0 col12\" >26</td>\n",
       "                        <td id=\"T_69f499a4_97ef_11e9_90dd_dc4a3e57f625row0_col13\" class=\"data row0 col13\" >0</td>\n",
       "                        <td id=\"T_69f499a4_97ef_11e9_90dd_dc4a3e57f625row0_col14\" class=\"data row0 col14\" >6</td>\n",
       "                        <td id=\"T_69f499a4_97ef_11e9_90dd_dc4a3e57f625row0_col15\" class=\"data row0 col15\" >0</td>\n",
       "                        <td id=\"T_69f499a4_97ef_11e9_90dd_dc4a3e57f625row0_col16\" class=\"data row0 col16\" >0</td>\n",
       "            </tr>\n",
       "            <tr>\n",
       "                        <th id=\"T_69f499a4_97ef_11e9_90dd_dc4a3e57f625level0_row1\" class=\"row_heading level0 row1\" >1.0</th>\n",
       "                        <td id=\"T_69f499a4_97ef_11e9_90dd_dc4a3e57f625row1_col0\" class=\"data row1 col0\" >0</td>\n",
       "                        <td id=\"T_69f499a4_97ef_11e9_90dd_dc4a3e57f625row1_col1\" class=\"data row1 col1\" >1</td>\n",
       "                        <td id=\"T_69f499a4_97ef_11e9_90dd_dc4a3e57f625row1_col2\" class=\"data row1 col2\" >0</td>\n",
       "                        <td id=\"T_69f499a4_97ef_11e9_90dd_dc4a3e57f625row1_col3\" class=\"data row1 col3\" >3</td>\n",
       "                        <td id=\"T_69f499a4_97ef_11e9_90dd_dc4a3e57f625row1_col4\" class=\"data row1 col4\" >0</td>\n",
       "                        <td id=\"T_69f499a4_97ef_11e9_90dd_dc4a3e57f625row1_col5\" class=\"data row1 col5\" >1</td>\n",
       "                        <td id=\"T_69f499a4_97ef_11e9_90dd_dc4a3e57f625row1_col6\" class=\"data row1 col6\" >1</td>\n",
       "                        <td id=\"T_69f499a4_97ef_11e9_90dd_dc4a3e57f625row1_col7\" class=\"data row1 col7\" >23</td>\n",
       "                        <td id=\"T_69f499a4_97ef_11e9_90dd_dc4a3e57f625row1_col8\" class=\"data row1 col8\" >127</td>\n",
       "                        <td id=\"T_69f499a4_97ef_11e9_90dd_dc4a3e57f625row1_col9\" class=\"data row1 col9\" >2</td>\n",
       "                        <td id=\"T_69f499a4_97ef_11e9_90dd_dc4a3e57f625row1_col10\" class=\"data row1 col10\" >1</td>\n",
       "                        <td id=\"T_69f499a4_97ef_11e9_90dd_dc4a3e57f625row1_col11\" class=\"data row1 col11\" >81</td>\n",
       "                        <td id=\"T_69f499a4_97ef_11e9_90dd_dc4a3e57f625row1_col12\" class=\"data row1 col12\" >99</td>\n",
       "                        <td id=\"T_69f499a4_97ef_11e9_90dd_dc4a3e57f625row1_col13\" class=\"data row1 col13\" >1</td>\n",
       "                        <td id=\"T_69f499a4_97ef_11e9_90dd_dc4a3e57f625row1_col14\" class=\"data row1 col14\" >0</td>\n",
       "                        <td id=\"T_69f499a4_97ef_11e9_90dd_dc4a3e57f625row1_col15\" class=\"data row1 col15\" >1</td>\n",
       "                        <td id=\"T_69f499a4_97ef_11e9_90dd_dc4a3e57f625row1_col16\" class=\"data row1 col16\" >1</td>\n",
       "            </tr>\n",
       "    </tbody></table>"
      ],
      "text/plain": [
       "<pandas.io.formats.style.Styler at 0x2a9e81d1390>"
      ]
     },
     "execution_count": 742,
     "metadata": {},
     "output_type": "execute_result"
    }
   ],
   "source": [
    "pd.crosstab(data['Title1'], data['Survived']).T.style.background_gradient(cmap = 'summer_r')"
   ]
  },
  {
   "cell_type": "code",
   "execution_count": 743,
   "metadata": {},
   "outputs": [
    {
     "data": {
      "text/plain": [
       "Title1\n",
       "Capt            70.000000\n",
       "Col             54.000000\n",
       "Don             40.000000\n",
       "Dona            39.000000\n",
       "Dr              43.571429\n",
       "Jonkheer        38.000000\n",
       "Lady            48.000000\n",
       "Major           48.500000\n",
       "Master           5.482642\n",
       "Miss            21.774238\n",
       "Mlle            24.000000\n",
       "Mme             24.000000\n",
       "Mr              32.252151\n",
       "Mrs             36.994118\n",
       "Ms              28.000000\n",
       "Rev             41.250000\n",
       "Sir             49.000000\n",
       "the Countess    33.000000\n",
       "Name: Age, dtype: float64"
      ]
     },
     "execution_count": 743,
     "metadata": {},
     "output_type": "execute_result"
    }
   ],
   "source": [
    "data.groupby(['Title1'])['Age'].mean()"
   ]
  },
  {
   "cell_type": "code",
   "execution_count": 744,
   "metadata": {},
   "outputs": [
    {
     "data": {
      "text/plain": [
       "Title1        Pclass\n",
       "Capt          1         70.000000\n",
       "Col           1         54.000000\n",
       "Don           1         40.000000\n",
       "Dona          1         39.000000\n",
       "Dr            1         45.600000\n",
       "              2         38.500000\n",
       "Jonkheer      1         38.000000\n",
       "Lady          1         48.000000\n",
       "Major         1         48.500000\n",
       "Master        1          6.984000\n",
       "              2          2.757273\n",
       "              3          6.090000\n",
       "Miss          1         30.338983\n",
       "              2         20.717083\n",
       "              3         17.360874\n",
       "Mlle          1         24.000000\n",
       "Mme           1         24.000000\n",
       "Mr            1         41.450758\n",
       "              2         32.346715\n",
       "              3         28.318910\n",
       "Mrs           1         43.208955\n",
       "              2         33.518519\n",
       "              3         32.326531\n",
       "Ms            2         28.000000\n",
       "              3               NaN\n",
       "Rev           2         41.250000\n",
       "Sir           1         49.000000\n",
       "the Countess  1         33.000000\n",
       "Name: Age, dtype: float64"
      ]
     },
     "execution_count": 744,
     "metadata": {},
     "output_type": "execute_result"
    }
   ],
   "source": [
    "data.groupby(['Title1','Pclass'])['Age'].mean()"
   ]
  },
  {
   "cell_type": "code",
   "execution_count": 745,
   "metadata": {},
   "outputs": [],
   "source": [
    "data['Title2'] = data['Title1'].replace(['Mlle', 'Mme', 'Ms', 'Dr', 'Major', 'Lady', 'the Countess', 'Jonkheer', 'Col', 'Rev', 'Capt', 'Sir', 'Don', 'Dona'], \n",
    "                                        ['Miss','Mrs','Miss','Mr','Mr','Mrs','Mrs','Mr','Mr','Mr','Mr','Mr','Mr','Mrs'])"
   ]
  },
  {
   "cell_type": "code",
   "execution_count": 746,
   "metadata": {},
   "outputs": [
    {
     "data": {
      "text/plain": [
       "array(['Mr', 'Mrs', 'Miss', 'Master'], dtype=object)"
      ]
     },
     "execution_count": 746,
     "metadata": {},
     "output_type": "execute_result"
    }
   ],
   "source": [
    "data['Title2'].unique()"
   ]
  },
  {
   "cell_type": "code",
   "execution_count": 747,
   "metadata": {},
   "outputs": [
    {
     "data": {
      "text/plain": [
       "Title2  Pclass\n",
       "Master  1          6.984000\n",
       "        2          2.757273\n",
       "        3          6.090000\n",
       "Miss    1         30.131148\n",
       "        2         20.865714\n",
       "        3         17.360874\n",
       "Mr      1         42.241497\n",
       "        2         32.914966\n",
       "        3         28.318910\n",
       "Mrs     1         42.802817\n",
       "        2         33.518519\n",
       "        3         32.326531\n",
       "Name: Age, dtype: float64"
      ]
     },
     "execution_count": 747,
     "metadata": {},
     "output_type": "execute_result"
    }
   ],
   "source": [
    "data.groupby(['Title2', 'Pclass'])['Age'].mean()"
   ]
  },
  {
   "cell_type": "code",
   "execution_count": 748,
   "metadata": {},
   "outputs": [
    {
     "data": {
      "text/plain": [
       "0           A/5 21171\n",
       "1            PC 17599\n",
       "2    STON/O2. 3101282\n",
       "3              113803\n",
       "4              373450\n",
       "Name: Ticket, dtype: object"
      ]
     },
     "execution_count": 748,
     "metadata": {},
     "output_type": "execute_result"
    }
   ],
   "source": [
    "data['Ticket'].head()"
   ]
  },
  {
   "cell_type": "code",
   "execution_count": 749,
   "metadata": {},
   "outputs": [],
   "source": [
    "data['Ticket_info'] = data['Ticket'].apply(lambda x : x.replace(\".\", \"\").replace('/', \"\").strip().split(' ')[0] if not x.isdigit() else 'X')"
   ]
  },
  {
   "cell_type": "code",
   "execution_count": 750,
   "metadata": {},
   "outputs": [
    {
     "data": {
      "text/plain": [
       "array(['A5', 'PC', 'STONO2', 'X', 'PP', 'CA', 'SCParis', 'SCA4', 'A4',\n",
       "       'SP', 'SOC', 'WC', 'SOTONOQ', 'WEP', 'STONO', 'C', 'SCPARIS',\n",
       "       'SOP', 'Fa', 'LINE', 'FCC', 'SWPP', 'SCOW', 'PPP', 'SC', 'SCAH',\n",
       "       'AS', 'SOPP', 'FC', 'SOTONO2', 'CASOTON', 'SCA3', 'STONOQ', 'AQ4',\n",
       "       'A', 'LP', 'AQ3'], dtype=object)"
      ]
     },
     "execution_count": 750,
     "metadata": {},
     "output_type": "execute_result"
    }
   ],
   "source": [
    "data['Ticket_info'].unique()"
   ]
  },
  {
   "cell_type": "code",
   "execution_count": 751,
   "metadata": {},
   "outputs": [
    {
     "data": {
      "text/plain": [
       "<matplotlib.axes._subplots.AxesSubplot at 0x2a9e83f47b8>"
      ]
     },
     "execution_count": 751,
     "metadata": {},
     "output_type": "execute_result"
    },
    {
     "data": {
      "image/png": "[encoded data removed]",
      "text/plain": [
       "<Figure size 1296x432 with 1 Axes>"
      ]
     },
     "metadata": {
      "needs_background": "light"
     },
     "output_type": "display_data"
    }
   ],
   "source": [
    "plt.figure(figsize=(18,6))\n",
    "sns.countplot(data['Ticket_info'], hue=data['Survived'])"
   ]
  },
  {
   "cell_type": "code",
   "execution_count": 752,
   "metadata": {},
   "outputs": [
    {
     "data": {
      "text/html": [
       "<style  type=\"text/css\" >\n",
       "    #T_6ab438ba_97ef_11e9_86cd_dc4a3e57f625row0_col0 {\n",
       "            background-color:  #008066;\n",
       "            color:  #f1f1f1;\n",
       "        }    #T_6ab438ba_97ef_11e9_86cd_dc4a3e57f625row0_col1 {\n",
       "            background-color:  #008066;\n",
       "            color:  #f1f1f1;\n",
       "        }    #T_6ab438ba_97ef_11e9_86cd_dc4a3e57f625row0_col2 {\n",
       "            background-color:  #008066;\n",
       "            color:  #f1f1f1;\n",
       "        }    #T_6ab438ba_97ef_11e9_86cd_dc4a3e57f625row0_col3 {\n",
       "            background-color:  #008066;\n",
       "            color:  #f1f1f1;\n",
       "        }    #T_6ab438ba_97ef_11e9_86cd_dc4a3e57f625row0_col4 {\n",
       "            background-color:  #008066;\n",
       "            color:  #f1f1f1;\n",
       "        }    #T_6ab438ba_97ef_11e9_86cd_dc4a3e57f625row0_col5 {\n",
       "            background-color:  #008066;\n",
       "            color:  #f1f1f1;\n",
       "        }    #T_6ab438ba_97ef_11e9_86cd_dc4a3e57f625row0_col6 {\n",
       "            background-color:  #008066;\n",
       "            color:  #f1f1f1;\n",
       "        }    #T_6ab438ba_97ef_11e9_86cd_dc4a3e57f625row0_col7 {\n",
       "            background-color:  #ffff66;\n",
       "            color:  #000000;\n",
       "        }    #T_6ab438ba_97ef_11e9_86cd_dc4a3e57f625row0_col8 {\n",
       "            background-color:  #008066;\n",
       "            color:  #f1f1f1;\n",
       "        }    #T_6ab438ba_97ef_11e9_86cd_dc4a3e57f625row0_col9 {\n",
       "            background-color:  #008066;\n",
       "            color:  #f1f1f1;\n",
       "        }    #T_6ab438ba_97ef_11e9_86cd_dc4a3e57f625row0_col10 {\n",
       "            background-color:  #ffff66;\n",
       "            color:  #000000;\n",
       "        }    #T_6ab438ba_97ef_11e9_86cd_dc4a3e57f625row0_col11 {\n",
       "            background-color:  #ffff66;\n",
       "            color:  #000000;\n",
       "        }    #T_6ab438ba_97ef_11e9_86cd_dc4a3e57f625row0_col12 {\n",
       "            background-color:  #ffff66;\n",
       "            color:  #000000;\n",
       "        }    #T_6ab438ba_97ef_11e9_86cd_dc4a3e57f625row0_col13 {\n",
       "            background-color:  #ffff66;\n",
       "            color:  #000000;\n",
       "        }    #T_6ab438ba_97ef_11e9_86cd_dc4a3e57f625row0_col14 {\n",
       "            background-color:  #008066;\n",
       "            color:  #f1f1f1;\n",
       "        }    #T_6ab438ba_97ef_11e9_86cd_dc4a3e57f625row0_col15 {\n",
       "            background-color:  #ffff66;\n",
       "            color:  #000000;\n",
       "        }    #T_6ab438ba_97ef_11e9_86cd_dc4a3e57f625row0_col16 {\n",
       "            background-color:  #008066;\n",
       "            color:  #f1f1f1;\n",
       "        }    #T_6ab438ba_97ef_11e9_86cd_dc4a3e57f625row0_col17 {\n",
       "            background-color:  #008066;\n",
       "            color:  #f1f1f1;\n",
       "        }    #T_6ab438ba_97ef_11e9_86cd_dc4a3e57f625row0_col18 {\n",
       "            background-color:  #ffff66;\n",
       "            color:  #000000;\n",
       "        }    #T_6ab438ba_97ef_11e9_86cd_dc4a3e57f625row0_col19 {\n",
       "            background-color:  #008066;\n",
       "            color:  #f1f1f1;\n",
       "        }    #T_6ab438ba_97ef_11e9_86cd_dc4a3e57f625row0_col20 {\n",
       "            background-color:  #008066;\n",
       "            color:  #f1f1f1;\n",
       "        }    #T_6ab438ba_97ef_11e9_86cd_dc4a3e57f625row0_col21 {\n",
       "            background-color:  #008066;\n",
       "            color:  #f1f1f1;\n",
       "        }    #T_6ab438ba_97ef_11e9_86cd_dc4a3e57f625row0_col22 {\n",
       "            background-color:  #008066;\n",
       "            color:  #f1f1f1;\n",
       "        }    #T_6ab438ba_97ef_11e9_86cd_dc4a3e57f625row0_col23 {\n",
       "            background-color:  #008066;\n",
       "            color:  #f1f1f1;\n",
       "        }    #T_6ab438ba_97ef_11e9_86cd_dc4a3e57f625row0_col24 {\n",
       "            background-color:  #008066;\n",
       "            color:  #f1f1f1;\n",
       "        }    #T_6ab438ba_97ef_11e9_86cd_dc4a3e57f625row0_col25 {\n",
       "            background-color:  #008066;\n",
       "            color:  #f1f1f1;\n",
       "        }    #T_6ab438ba_97ef_11e9_86cd_dc4a3e57f625row0_col26 {\n",
       "            background-color:  #ffff66;\n",
       "            color:  #000000;\n",
       "        }    #T_6ab438ba_97ef_11e9_86cd_dc4a3e57f625row0_col27 {\n",
       "            background-color:  #ffff66;\n",
       "            color:  #000000;\n",
       "        }    #T_6ab438ba_97ef_11e9_86cd_dc4a3e57f625row0_col28 {\n",
       "            background-color:  #008066;\n",
       "            color:  #f1f1f1;\n",
       "        }    #T_6ab438ba_97ef_11e9_86cd_dc4a3e57f625row0_col29 {\n",
       "            background-color:  #008066;\n",
       "            color:  #f1f1f1;\n",
       "        }    #T_6ab438ba_97ef_11e9_86cd_dc4a3e57f625row0_col30 {\n",
       "            background-color:  #008066;\n",
       "            color:  #f1f1f1;\n",
       "        }    #T_6ab438ba_97ef_11e9_86cd_dc4a3e57f625row1_col0 {\n",
       "            background-color:  #ffff66;\n",
       "            color:  #000000;\n",
       "        }    #T_6ab438ba_97ef_11e9_86cd_dc4a3e57f625row1_col1 {\n",
       "            background-color:  #ffff66;\n",
       "            color:  #000000;\n",
       "        }    #T_6ab438ba_97ef_11e9_86cd_dc4a3e57f625row1_col2 {\n",
       "            background-color:  #ffff66;\n",
       "            color:  #000000;\n",
       "        }    #T_6ab438ba_97ef_11e9_86cd_dc4a3e57f625row1_col3 {\n",
       "            background-color:  #ffff66;\n",
       "            color:  #000000;\n",
       "        }    #T_6ab438ba_97ef_11e9_86cd_dc4a3e57f625row1_col4 {\n",
       "            background-color:  #ffff66;\n",
       "            color:  #000000;\n",
       "        }    #T_6ab438ba_97ef_11e9_86cd_dc4a3e57f625row1_col5 {\n",
       "            background-color:  #ffff66;\n",
       "            color:  #000000;\n",
       "        }    #T_6ab438ba_97ef_11e9_86cd_dc4a3e57f625row1_col6 {\n",
       "            background-color:  #ffff66;\n",
       "            color:  #000000;\n",
       "        }    #T_6ab438ba_97ef_11e9_86cd_dc4a3e57f625row1_col7 {\n",
       "            background-color:  #008066;\n",
       "            color:  #f1f1f1;\n",
       "        }    #T_6ab438ba_97ef_11e9_86cd_dc4a3e57f625row1_col8 {\n",
       "            background-color:  #ffff66;\n",
       "            color:  #000000;\n",
       "        }    #T_6ab438ba_97ef_11e9_86cd_dc4a3e57f625row1_col9 {\n",
       "            background-color:  #ffff66;\n",
       "            color:  #000000;\n",
       "        }    #T_6ab438ba_97ef_11e9_86cd_dc4a3e57f625row1_col10 {\n",
       "            background-color:  #008066;\n",
       "            color:  #f1f1f1;\n",
       "        }    #T_6ab438ba_97ef_11e9_86cd_dc4a3e57f625row1_col11 {\n",
       "            background-color:  #008066;\n",
       "            color:  #f1f1f1;\n",
       "        }    #T_6ab438ba_97ef_11e9_86cd_dc4a3e57f625row1_col12 {\n",
       "            background-color:  #ffff66;\n",
       "            color:  #000000;\n",
       "        }    #T_6ab438ba_97ef_11e9_86cd_dc4a3e57f625row1_col13 {\n",
       "            background-color:  #008066;\n",
       "            color:  #f1f1f1;\n",
       "        }    #T_6ab438ba_97ef_11e9_86cd_dc4a3e57f625row1_col14 {\n",
       "            background-color:  #ffff66;\n",
       "            color:  #000000;\n",
       "        }    #T_6ab438ba_97ef_11e9_86cd_dc4a3e57f625row1_col15 {\n",
       "            background-color:  #008066;\n",
       "            color:  #f1f1f1;\n",
       "        }    #T_6ab438ba_97ef_11e9_86cd_dc4a3e57f625row1_col16 {\n",
       "            background-color:  #ffff66;\n",
       "            color:  #000000;\n",
       "        }    #T_6ab438ba_97ef_11e9_86cd_dc4a3e57f625row1_col17 {\n",
       "            background-color:  #ffff66;\n",
       "            color:  #000000;\n",
       "        }    #T_6ab438ba_97ef_11e9_86cd_dc4a3e57f625row1_col18 {\n",
       "            background-color:  #ffff66;\n",
       "            color:  #000000;\n",
       "        }    #T_6ab438ba_97ef_11e9_86cd_dc4a3e57f625row1_col19 {\n",
       "            background-color:  #ffff66;\n",
       "            color:  #000000;\n",
       "        }    #T_6ab438ba_97ef_11e9_86cd_dc4a3e57f625row1_col20 {\n",
       "            background-color:  #ffff66;\n",
       "            color:  #000000;\n",
       "        }    #T_6ab438ba_97ef_11e9_86cd_dc4a3e57f625row1_col21 {\n",
       "            background-color:  #ffff66;\n",
       "            color:  #000000;\n",
       "        }    #T_6ab438ba_97ef_11e9_86cd_dc4a3e57f625row1_col22 {\n",
       "            background-color:  #ffff66;\n",
       "            color:  #000000;\n",
       "        }    #T_6ab438ba_97ef_11e9_86cd_dc4a3e57f625row1_col23 {\n",
       "            background-color:  #ffff66;\n",
       "            color:  #000000;\n",
       "        }    #T_6ab438ba_97ef_11e9_86cd_dc4a3e57f625row1_col24 {\n",
       "            background-color:  #ffff66;\n",
       "            color:  #000000;\n",
       "        }    #T_6ab438ba_97ef_11e9_86cd_dc4a3e57f625row1_col25 {\n",
       "            background-color:  #ffff66;\n",
       "            color:  #000000;\n",
       "        }    #T_6ab438ba_97ef_11e9_86cd_dc4a3e57f625row1_col26 {\n",
       "            background-color:  #ffff66;\n",
       "            color:  #000000;\n",
       "        }    #T_6ab438ba_97ef_11e9_86cd_dc4a3e57f625row1_col27 {\n",
       "            background-color:  #008066;\n",
       "            color:  #f1f1f1;\n",
       "        }    #T_6ab438ba_97ef_11e9_86cd_dc4a3e57f625row1_col28 {\n",
       "            background-color:  #ffff66;\n",
       "            color:  #000000;\n",
       "        }    #T_6ab438ba_97ef_11e9_86cd_dc4a3e57f625row1_col29 {\n",
       "            background-color:  #ffff66;\n",
       "            color:  #000000;\n",
       "        }    #T_6ab438ba_97ef_11e9_86cd_dc4a3e57f625row1_col30 {\n",
       "            background-color:  #ffff66;\n",
       "            color:  #000000;\n",
       "        }</style><table id=\"T_6ab438ba_97ef_11e9_86cd_dc4a3e57f625\" ><thead>    <tr>        <th class=\"index_name level0\" >Ticket_info</th>        <th class=\"col_heading level0 col0\" >A4</th>        <th class=\"col_heading level0 col1\" >A5</th>        <th class=\"col_heading level0 col2\" >AS</th>        <th class=\"col_heading level0 col3\" >C</th>        <th class=\"col_heading level0 col4\" >CA</th>        <th class=\"col_heading level0 col5\" >CASOTON</th>        <th class=\"col_heading level0 col6\" >FC</th>        <th class=\"col_heading level0 col7\" >FCC</th>        <th class=\"col_heading level0 col8\" >Fa</th>        <th class=\"col_heading level0 col9\" >LINE</th>        <th class=\"col_heading level0 col10\" >PC</th>        <th class=\"col_heading level0 col11\" >PP</th>        <th class=\"col_heading level0 col12\" >PPP</th>        <th class=\"col_heading level0 col13\" >SC</th>        <th class=\"col_heading level0 col14\" >SCA4</th>        <th class=\"col_heading level0 col15\" >SCAH</th>        <th class=\"col_heading level0 col16\" >SCOW</th>        <th class=\"col_heading level0 col17\" >SCPARIS</th>        <th class=\"col_heading level0 col18\" >SCParis</th>        <th class=\"col_heading level0 col19\" >SOC</th>        <th class=\"col_heading level0 col20\" >SOP</th>        <th class=\"col_heading level0 col21\" >SOPP</th>        <th class=\"col_heading level0 col22\" >SOTONO2</th>        <th class=\"col_heading level0 col23\" >SOTONOQ</th>        <th class=\"col_heading level0 col24\" >SP</th>        <th class=\"col_heading level0 col25\" >STONO</th>        <th class=\"col_heading level0 col26\" >STONO2</th>        <th class=\"col_heading level0 col27\" >SWPP</th>        <th class=\"col_heading level0 col28\" >WC</th>        <th class=\"col_heading level0 col29\" >WEP</th>        <th class=\"col_heading level0 col30\" >X</th>    </tr>    <tr>        <th class=\"index_name level0\" >Survived</th>        <th class=\"blank\" ></th>        <th class=\"blank\" ></th>        <th class=\"blank\" ></th>        <th class=\"blank\" ></th>        <th class=\"blank\" ></th>        <th class=\"blank\" ></th>        <th class=\"blank\" ></th>        <th class=\"blank\" ></th>        <th class=\"blank\" ></th>        <th class=\"blank\" ></th>        <th class=\"blank\" ></th>        <th class=\"blank\" ></th>        <th class=\"blank\" ></th>        <th class=\"blank\" ></th>        <th class=\"blank\" ></th>        <th class=\"blank\" ></th>        <th class=\"blank\" ></th>        <th class=\"blank\" ></th>        <th class=\"blank\" ></th>        <th class=\"blank\" ></th>        <th class=\"blank\" ></th>        <th class=\"blank\" ></th>        <th class=\"blank\" ></th>        <th class=\"blank\" ></th>        <th class=\"blank\" ></th>        <th class=\"blank\" ></th>        <th class=\"blank\" ></th>        <th class=\"blank\" ></th>        <th class=\"blank\" ></th>        <th class=\"blank\" ></th>        <th class=\"blank\" ></th>    </tr></thead><tbody>\n",
       "                <tr>\n",
       "                        <th id=\"T_6ab438ba_97ef_11e9_86cd_dc4a3e57f625level0_row0\" class=\"row_heading level0 row0\" >0.0</th>\n",
       "                        <td id=\"T_6ab438ba_97ef_11e9_86cd_dc4a3e57f625row0_col0\" class=\"data row0 col0\" >7</td>\n",
       "                        <td id=\"T_6ab438ba_97ef_11e9_86cd_dc4a3e57f625row0_col1\" class=\"data row0 col1\" >19</td>\n",
       "                        <td id=\"T_6ab438ba_97ef_11e9_86cd_dc4a3e57f625row0_col2\" class=\"data row0 col2\" >1</td>\n",
       "                        <td id=\"T_6ab438ba_97ef_11e9_86cd_dc4a3e57f625row0_col3\" class=\"data row0 col3\" >3</td>\n",
       "                        <td id=\"T_6ab438ba_97ef_11e9_86cd_dc4a3e57f625row0_col4\" class=\"data row0 col4\" >27</td>\n",
       "                        <td id=\"T_6ab438ba_97ef_11e9_86cd_dc4a3e57f625row0_col5\" class=\"data row0 col5\" >1</td>\n",
       "                        <td id=\"T_6ab438ba_97ef_11e9_86cd_dc4a3e57f625row0_col6\" class=\"data row0 col6\" >1</td>\n",
       "                        <td id=\"T_6ab438ba_97ef_11e9_86cd_dc4a3e57f625row0_col7\" class=\"data row0 col7\" >1</td>\n",
       "                        <td id=\"T_6ab438ba_97ef_11e9_86cd_dc4a3e57f625row0_col8\" class=\"data row0 col8\" >1</td>\n",
       "                        <td id=\"T_6ab438ba_97ef_11e9_86cd_dc4a3e57f625row0_col9\" class=\"data row0 col9\" >3</td>\n",
       "                        <td id=\"T_6ab438ba_97ef_11e9_86cd_dc4a3e57f625row0_col10\" class=\"data row0 col10\" >21</td>\n",
       "                        <td id=\"T_6ab438ba_97ef_11e9_86cd_dc4a3e57f625row0_col11\" class=\"data row0 col11\" >1</td>\n",
       "                        <td id=\"T_6ab438ba_97ef_11e9_86cd_dc4a3e57f625row0_col12\" class=\"data row0 col12\" >1</td>\n",
       "                        <td id=\"T_6ab438ba_97ef_11e9_86cd_dc4a3e57f625row0_col13\" class=\"data row0 col13\" >0</td>\n",
       "                        <td id=\"T_6ab438ba_97ef_11e9_86cd_dc4a3e57f625row0_col14\" class=\"data row0 col14\" >1</td>\n",
       "                        <td id=\"T_6ab438ba_97ef_11e9_86cd_dc4a3e57f625row0_col15\" class=\"data row0 col15\" >1</td>\n",
       "                        <td id=\"T_6ab438ba_97ef_11e9_86cd_dc4a3e57f625row0_col16\" class=\"data row0 col16\" >1</td>\n",
       "                        <td id=\"T_6ab438ba_97ef_11e9_86cd_dc4a3e57f625row0_col17\" class=\"data row0 col17\" >4</td>\n",
       "                        <td id=\"T_6ab438ba_97ef_11e9_86cd_dc4a3e57f625row0_col18\" class=\"data row0 col18\" >2</td>\n",
       "                        <td id=\"T_6ab438ba_97ef_11e9_86cd_dc4a3e57f625row0_col19\" class=\"data row0 col19\" >5</td>\n",
       "                        <td id=\"T_6ab438ba_97ef_11e9_86cd_dc4a3e57f625row0_col20\" class=\"data row0 col20\" >1</td>\n",
       "                        <td id=\"T_6ab438ba_97ef_11e9_86cd_dc4a3e57f625row0_col21\" class=\"data row0 col21\" >3</td>\n",
       "                        <td id=\"T_6ab438ba_97ef_11e9_86cd_dc4a3e57f625row0_col22\" class=\"data row0 col22\" >2</td>\n",
       "                        <td id=\"T_6ab438ba_97ef_11e9_86cd_dc4a3e57f625row0_col23\" class=\"data row0 col23\" >13</td>\n",
       "                        <td id=\"T_6ab438ba_97ef_11e9_86cd_dc4a3e57f625row0_col24\" class=\"data row0 col24\" >1</td>\n",
       "                        <td id=\"T_6ab438ba_97ef_11e9_86cd_dc4a3e57f625row0_col25\" class=\"data row0 col25\" >7</td>\n",
       "                        <td id=\"T_6ab438ba_97ef_11e9_86cd_dc4a3e57f625row0_col26\" class=\"data row0 col26\" >3</td>\n",
       "                        <td id=\"T_6ab438ba_97ef_11e9_86cd_dc4a3e57f625row0_col27\" class=\"data row0 col27\" >0</td>\n",
       "                        <td id=\"T_6ab438ba_97ef_11e9_86cd_dc4a3e57f625row0_col28\" class=\"data row0 col28\" >9</td>\n",
       "                        <td id=\"T_6ab438ba_97ef_11e9_86cd_dc4a3e57f625row0_col29\" class=\"data row0 col29\" >2</td>\n",
       "                        <td id=\"T_6ab438ba_97ef_11e9_86cd_dc4a3e57f625row0_col30\" class=\"data row0 col30\" >407</td>\n",
       "            </tr>\n",
       "            <tr>\n",
       "                        <th id=\"T_6ab438ba_97ef_11e9_86cd_dc4a3e57f625level0_row1\" class=\"row_heading level0 row1\" >1.0</th>\n",
       "                        <td id=\"T_6ab438ba_97ef_11e9_86cd_dc4a3e57f625row1_col0\" class=\"data row1 col0\" >0</td>\n",
       "                        <td id=\"T_6ab438ba_97ef_11e9_86cd_dc4a3e57f625row1_col1\" class=\"data row1 col1\" >2</td>\n",
       "                        <td id=\"T_6ab438ba_97ef_11e9_86cd_dc4a3e57f625row1_col2\" class=\"data row1 col2\" >0</td>\n",
       "                        <td id=\"T_6ab438ba_97ef_11e9_86cd_dc4a3e57f625row1_col3\" class=\"data row1 col3\" >2</td>\n",
       "                        <td id=\"T_6ab438ba_97ef_11e9_86cd_dc4a3e57f625row1_col4\" class=\"data row1 col4\" >14</td>\n",
       "                        <td id=\"T_6ab438ba_97ef_11e9_86cd_dc4a3e57f625row1_col5\" class=\"data row1 col5\" >0</td>\n",
       "                        <td id=\"T_6ab438ba_97ef_11e9_86cd_dc4a3e57f625row1_col6\" class=\"data row1 col6\" >0</td>\n",
       "                        <td id=\"T_6ab438ba_97ef_11e9_86cd_dc4a3e57f625row1_col7\" class=\"data row1 col7\" >4</td>\n",
       "                        <td id=\"T_6ab438ba_97ef_11e9_86cd_dc4a3e57f625row1_col8\" class=\"data row1 col8\" >0</td>\n",
       "                        <td id=\"T_6ab438ba_97ef_11e9_86cd_dc4a3e57f625row1_col9\" class=\"data row1 col9\" >1</td>\n",
       "                        <td id=\"T_6ab438ba_97ef_11e9_86cd_dc4a3e57f625row1_col10\" class=\"data row1 col10\" >39</td>\n",
       "                        <td id=\"T_6ab438ba_97ef_11e9_86cd_dc4a3e57f625row1_col11\" class=\"data row1 col11\" >2</td>\n",
       "                        <td id=\"T_6ab438ba_97ef_11e9_86cd_dc4a3e57f625row1_col12\" class=\"data row1 col12\" >1</td>\n",
       "                        <td id=\"T_6ab438ba_97ef_11e9_86cd_dc4a3e57f625row1_col13\" class=\"data row1 col13\" >1</td>\n",
       "                        <td id=\"T_6ab438ba_97ef_11e9_86cd_dc4a3e57f625row1_col14\" class=\"data row1 col14\" >0</td>\n",
       "                        <td id=\"T_6ab438ba_97ef_11e9_86cd_dc4a3e57f625row1_col15\" class=\"data row1 col15\" >2</td>\n",
       "                        <td id=\"T_6ab438ba_97ef_11e9_86cd_dc4a3e57f625row1_col16\" class=\"data row1 col16\" >0</td>\n",
       "                        <td id=\"T_6ab438ba_97ef_11e9_86cd_dc4a3e57f625row1_col17\" class=\"data row1 col17\" >3</td>\n",
       "                        <td id=\"T_6ab438ba_97ef_11e9_86cd_dc4a3e57f625row1_col18\" class=\"data row1 col18\" >2</td>\n",
       "                        <td id=\"T_6ab438ba_97ef_11e9_86cd_dc4a3e57f625row1_col19\" class=\"data row1 col19\" >1</td>\n",
       "                        <td id=\"T_6ab438ba_97ef_11e9_86cd_dc4a3e57f625row1_col20\" class=\"data row1 col20\" >0</td>\n",
       "                        <td id=\"T_6ab438ba_97ef_11e9_86cd_dc4a3e57f625row1_col21\" class=\"data row1 col21\" >0</td>\n",
       "                        <td id=\"T_6ab438ba_97ef_11e9_86cd_dc4a3e57f625row1_col22\" class=\"data row1 col22\" >0</td>\n",
       "                        <td id=\"T_6ab438ba_97ef_11e9_86cd_dc4a3e57f625row1_col23\" class=\"data row1 col23\" >2</td>\n",
       "                        <td id=\"T_6ab438ba_97ef_11e9_86cd_dc4a3e57f625row1_col24\" class=\"data row1 col24\" >0</td>\n",
       "                        <td id=\"T_6ab438ba_97ef_11e9_86cd_dc4a3e57f625row1_col25\" class=\"data row1 col25\" >5</td>\n",
       "                        <td id=\"T_6ab438ba_97ef_11e9_86cd_dc4a3e57f625row1_col26\" class=\"data row1 col26\" >3</td>\n",
       "                        <td id=\"T_6ab438ba_97ef_11e9_86cd_dc4a3e57f625row1_col27\" class=\"data row1 col27\" >2</td>\n",
       "                        <td id=\"T_6ab438ba_97ef_11e9_86cd_dc4a3e57f625row1_col28\" class=\"data row1 col28\" >1</td>\n",
       "                        <td id=\"T_6ab438ba_97ef_11e9_86cd_dc4a3e57f625row1_col29\" class=\"data row1 col29\" >1</td>\n",
       "                        <td id=\"T_6ab438ba_97ef_11e9_86cd_dc4a3e57f625row1_col30\" class=\"data row1 col30\" >254</td>\n",
       "            </tr>\n",
       "    </tbody></table>"
      ],
      "text/plain": [
       "<pandas.io.formats.style.Styler at 0x2a9e82e5208>"
      ]
     },
     "execution_count": 752,
     "metadata": {},
     "output_type": "execute_result"
    }
   ],
   "source": [
    "pd.crosstab(data['Survived'], data['Ticket_info']).style.background_gradient(cmap = 'summer_r')"
   ]
  },
  {
   "cell_type": "markdown",
   "metadata": {},
   "source": [
    "# Missing Value-embarked, Fare, Age"
   ]
  },
  {
   "cell_type": "code",
   "execution_count": 753,
   "metadata": {},
   "outputs": [
    {
     "name": "stdout",
     "output_type": "stream",
     "text": [
      "<class 'pandas.core.frame.DataFrame'>\n",
      "RangeIndex: 1309 entries, 0 to 1308\n",
      "Data columns (total 16 columns):\n",
      "Age            1046 non-null float64\n",
      "Cabin          295 non-null object\n",
      "Embarked       1307 non-null object\n",
      "Fare           1308 non-null float64\n",
      "Name           1309 non-null object\n",
      "Parch          1309 non-null int64\n",
      "PassengerId    1309 non-null int64\n",
      "Pclass         1309 non-null int64\n",
      "Sex            1309 non-null object\n",
      "SibSp          1309 non-null int64\n",
      "Survived       891 non-null float64\n",
      "Ticket         1309 non-null object\n",
      "Family_size    1309 non-null int64\n",
      "Title1         1309 non-null object\n",
      "Title2         1309 non-null object\n",
      "Ticket_info    1309 non-null object\n",
      "dtypes: float64(3), int64(5), object(8)\n",
      "memory usage: 163.7+ KB\n"
     ]
    }
   ],
   "source": [
    "data.info()"
   ]
  },
  {
   "cell_type": "code",
   "execution_count": 754,
   "metadata": {},
   "outputs": [
    {
     "data": {
      "text/plain": [
       "<matplotlib.axes._subplots.AxesSubplot at 0x2a9e8798eb8>"
      ]
     },
     "execution_count": 754,
     "metadata": {},
     "output_type": "execute_result"
    },
    {
     "data": {
      "image/png": "[encoded data removed]",
      "text/plain": [
       "<Figure size 432x288 with 1 Axes>"
      ]
     },
     "metadata": {
      "needs_background": "light"
     },
     "output_type": "display_data"
    }
   ],
   "source": [
    "sns.countplot(data['Embarked'], hue=data['Survived'])"
   ]
  },
  {
   "cell_type": "code",
   "execution_count": 755,
   "metadata": {},
   "outputs": [],
   "source": [
    "data['Embarked'] = data['Embarked'].fillna('S')"
   ]
  },
  {
   "cell_type": "code",
   "execution_count": 756,
   "metadata": {},
   "outputs": [],
   "source": [
    "data['Fare'] = data['Fare'].fillna(data['Fare'].mean())"
   ]
  },
  {
   "cell_type": "code",
   "execution_count": 757,
   "metadata": {},
   "outputs": [
    {
     "name": "stdout",
     "output_type": "stream",
     "text": [
      "<class 'pandas.core.frame.DataFrame'>\n",
      "RangeIndex: 1309 entries, 0 to 1308\n",
      "Data columns (total 16 columns):\n",
      "Age            1046 non-null float64\n",
      "Cabin          295 non-null object\n",
      "Embarked       1309 non-null object\n",
      "Fare           1309 non-null float64\n",
      "Name           1309 non-null object\n",
      "Parch          1309 non-null int64\n",
      "PassengerId    1309 non-null int64\n",
      "Pclass         1309 non-null int64\n",
      "Sex            1309 non-null object\n",
      "SibSp          1309 non-null int64\n",
      "Survived       891 non-null float64\n",
      "Ticket         1309 non-null object\n",
      "Family_size    1309 non-null int64\n",
      "Title1         1309 non-null object\n",
      "Title2         1309 non-null object\n",
      "Ticket_info    1309 non-null object\n",
      "dtypes: float64(3), int64(5), object(8)\n",
      "memory usage: 163.7+ KB\n"
     ]
    }
   ],
   "source": [
    "data.info()"
   ]
  },
  {
   "cell_type": "code",
   "execution_count": 758,
   "metadata": {},
   "outputs": [],
   "source": [
    "data['Cabin'] = data['Cabin'].apply(lambda x : str(x)[0] if not pd.isnull(x) else 'NoCabin')"
   ]
  },
  {
   "cell_type": "code",
   "execution_count": 759,
   "metadata": {},
   "outputs": [
    {
     "data": {
      "text/plain": [
       "array(['NoCabin', 'C', 'E', 'G', 'D', 'A', 'B', 'F', 'T'], dtype=object)"
      ]
     },
     "execution_count": 759,
     "metadata": {},
     "output_type": "execute_result"
    }
   ],
   "source": [
    "data['Cabin'].unique()"
   ]
  },
  {
   "cell_type": "code",
   "execution_count": 760,
   "metadata": {
    "scrolled": true
   },
   "outputs": [
    {
     "data": {
      "text/plain": [
       "<matplotlib.axes._subplots.AxesSubplot at 0x2a9e8536d30>"
      ]
     },
     "execution_count": 760,
     "metadata": {},
     "output_type": "execute_result"
    },
    {
     "data": {
      "image/png": "[encoded data removed]",
      "text/plain": [
       "<Figure size 432x288 with 1 Axes>"
      ]
     },
     "metadata": {
      "needs_background": "light"
     },
     "output_type": "display_data"
    }
   ],
   "source": [
    "sns.countplot(data['Cabin'], hue = data['Survived'])"
   ]
  },
  {
   "cell_type": "code",
   "execution_count": 761,
   "metadata": {},
   "outputs": [],
   "source": [
    "data['Sex'] = data['Sex'].astype('category').cat.codes\n",
    "data['Embarked'] = data['Embarked'].astype('category').cat.codes\n",
    "data['Pclass'] = data['Pclass'].astype('category').cat.codes\n",
    "data['Title1'] = data['Title1'].astype('category').cat.codes\n",
    "data['Title2'] = data['Title2'].astype('category').cat.codes\n",
    "data['Cabin'] = data['Cabin'].astype('category').cat.codes\n",
    "data['Ticket_info'] = data['Ticket_info'].astype('category').cat.codes"
   ]
  },
  {
   "cell_type": "code",
   "execution_count": 762,
   "metadata": {},
   "outputs": [
    {
     "data": {
      "text/plain": [
       "0    2\n",
       "1    0\n",
       "2    2\n",
       "3    2\n",
       "4    2\n",
       "Name: Embarked, dtype: int8"
      ]
     },
     "execution_count": 762,
     "metadata": {},
     "output_type": "execute_result"
    }
   ],
   "source": [
    "data['Embarked'].head()"
   ]
  },
  {
   "cell_type": "code",
   "execution_count": 763,
   "metadata": {},
   "outputs": [],
   "source": [
    "dataAgeNull = data[data['Age'].isnull()]\n",
    "dataAgeNotNull = data[data['Age'].notnull()]\n",
    "remove_outlier = dataAgeNotNull[(np.abs(dataAgeNotNull['Fare'] - dataAgeNotNull['Fare'].mean()) < (4* dataAgeNotNull['Fare'].std()))]\n",
    "remove_outlier = remove_outlier[(np.abs(remove_outlier['Family_size'] - remove_outlier['Family_size'].mean()) < (4* remove_outlier['Family_size'].std()))]"
   ]
  },
  {
   "cell_type": "code",
   "execution_count": 764,
   "metadata": {},
   "outputs": [
    {
     "name": "stderr",
     "output_type": "stream",
     "text": [
      "C:\\Users\\AQ1648\\AppData\\Local\\Continuum\\anaconda3\\lib\\site-packages\\ipykernel_launcher.py:5: SettingWithCopyWarning: \n",
      "A value is trying to be set on a copy of a slice from a DataFrame.\n",
      "Try using .loc[row_indexer,col_indexer] = value instead\n",
      "\n",
      "See the caveats in the documentation: http://pandas.pydata.org/pandas-docs/stable/indexing.html#indexing-view-versus-copy\n",
      "  \"\"\"\n"
     ]
    }
   ],
   "source": [
    "rfModel_age = RandomForestRegressor(n_estimators=2000, random_state= 42)\n",
    "ageColumns = ['Embarked', 'Fare', 'Pclass', 'Sex', 'Family_size', 'Title1', 'Title2', 'Cabin', 'Ticket_info']\n",
    "rfModel_age.fit(remove_outlier[ageColumns], remove_outlier['Age'])\n",
    "ageNullValues = rfModel_age.predict(X= dataAgeNull[ageColumns])\n",
    "dataAgeNull['Age'] = ageNullValues\n",
    "data = dataAgeNull.append(dataAgeNotNull)\n",
    "data.reset_index(inplace = True, drop = True)"
   ]
  },
  {
   "cell_type": "code",
   "execution_count": 765,
   "metadata": {},
   "outputs": [],
   "source": [
    "dataTrain = data[data['Survived'].notnull()].sort_values(by = ['PassengerId'])\n",
    "dataTest = data[data['Survived'].isnull()].sort_values(by= ['PassengerId'])"
   ]
  },
  {
   "cell_type": "code",
   "execution_count": 766,
   "metadata": {},
   "outputs": [
    {
     "data": {
      "text/plain": [
       "Index(['Age', 'Cabin', 'Embarked', 'Fare', 'Name', 'Parch', 'PassengerId',\n",
       "       'Pclass', 'Sex', 'SibSp', 'Survived', 'Ticket', 'Family_size', 'Title1',\n",
       "       'Title2', 'Ticket_info'],\n",
       "      dtype='object')"
      ]
     },
     "execution_count": 766,
     "metadata": {},
     "output_type": "execute_result"
    }
   ],
   "source": [
    "dataTrain.columns"
   ]
  },
  {
   "cell_type": "code",
   "execution_count": 767,
   "metadata": {},
   "outputs": [],
   "source": [
    "dataTrain = dataTrain[['Survived', 'Age', 'Embarked', 'Fare', 'Pclass', 'Sex', 'Family_size', 'Title2', 'Ticket_info', 'Cabin']]\n",
    "dataTest = dataTest[['Age', 'Embarked', 'Fare', 'Pclass', 'Sex', 'Family_size', 'Title2', 'Ticket_info', 'Cabin']]"
   ]
  },
  {
   "cell_type": "markdown",
   "metadata": {},
   "source": [
    "# Model training "
   ]
  },
  {
   "cell_type": "code",
   "execution_count": 768,
   "metadata": {},
   "outputs": [
    {
     "name": "stdout",
     "output_type": "stream",
     "text": [
      "0.8316498316498316\n"
     ]
    }
   ],
   "source": [
    "rf = RandomForestClassifier(n_estimators=1000, random_state=1, oob_score=True, criterion='gini', min_samples_leaf=1, min_samples_split=12)\n",
    "rf.fit(dataTrain.iloc[:, 1:], dataTrain.iloc[:, 0])\n",
    "print(rf.oob_score_)"
   ]
  },
  {
   "cell_type": "code",
   "execution_count": 769,
   "metadata": {},
   "outputs": [
    {
     "data": {
      "text/html": [
       "<div>\n",
       "<style scoped>\n",
       "    .dataframe tbody tr th:only-of-type {\n",
       "        vertical-align: middle;\n",
       "    }\n",
       "\n",
       "    .dataframe tbody tr th {\n",
       "        vertical-align: top;\n",
       "    }\n",
       "\n",
       "    .dataframe thead th {\n",
       "        text-align: right;\n",
       "    }\n",
       "</style>\n",
       "<table border=\"1\" class=\"dataframe\">\n",
       "  <thead>\n",
       "    <tr style=\"text-align: right;\">\n",
       "      <th></th>\n",
       "      <th>variable</th>\n",
       "      <th>importance</th>\n",
       "    </tr>\n",
       "  </thead>\n",
       "  <tbody>\n",
       "    <tr>\n",
       "      <th>2</th>\n",
       "      <td>Fare</td>\n",
       "      <td>0.215014</td>\n",
       "    </tr>\n",
       "    <tr>\n",
       "      <th>0</th>\n",
       "      <td>Age</td>\n",
       "      <td>0.161989</td>\n",
       "    </tr>\n",
       "    <tr>\n",
       "      <th>4</th>\n",
       "      <td>Sex</td>\n",
       "      <td>0.134079</td>\n",
       "    </tr>\n",
       "    <tr>\n",
       "      <th>3</th>\n",
       "      <td>Pclass</td>\n",
       "      <td>0.128238</td>\n",
       "    </tr>\n",
       "    <tr>\n",
       "      <th>8</th>\n",
       "      <td>Cabin</td>\n",
       "      <td>0.120436</td>\n",
       "    </tr>\n",
       "    <tr>\n",
       "      <th>5</th>\n",
       "      <td>Family_size</td>\n",
       "      <td>0.101161</td>\n",
       "    </tr>\n",
       "    <tr>\n",
       "      <th>6</th>\n",
       "      <td>Title2</td>\n",
       "      <td>0.063213</td>\n",
       "    </tr>\n",
       "    <tr>\n",
       "      <th>7</th>\n",
       "      <td>Ticket_info</td>\n",
       "      <td>0.050306</td>\n",
       "    </tr>\n",
       "    <tr>\n",
       "      <th>1</th>\n",
       "      <td>Embarked</td>\n",
       "      <td>0.025565</td>\n",
       "    </tr>\n",
       "  </tbody>\n",
       "</table>\n",
       "</div>"
      ],
      "text/plain": [
       "      variable  importance\n",
       "2         Fare    0.215014\n",
       "0          Age    0.161989\n",
       "4          Sex    0.134079\n",
       "3       Pclass    0.128238\n",
       "8        Cabin    0.120436\n",
       "5  Family_size    0.101161\n",
       "6       Title2    0.063213\n",
       "7  Ticket_info    0.050306\n",
       "1     Embarked    0.025565"
      ]
     },
     "execution_count": 769,
     "metadata": {},
     "output_type": "execute_result"
    }
   ],
   "source": [
    "pd.concat((pd.DataFrame(dataTrain.iloc[:, 1:].columns, columns = ['variable']),\n",
    "         pd.DataFrame(rf.feature_importances_, columns= ['importance'])), axis=1).sort_values(by= 'importance', ascending = False)"
   ]
  },
  {
   "cell_type": "markdown",
   "metadata": {},
   "source": [
    "# Submit"
   ]
  },
  {
   "cell_type": "code",
   "execution_count": 770,
   "metadata": {},
   "outputs": [],
   "source": [
    "rf_res = rf.predict(dataTest)\n",
    "gender_submission['Survived'] = rf_res\n",
    "gender_submission['Survived'] = gender_submission['Survived'].astype(int)\n",
    "gender_submission.to_csv('submit5.csv', index = False)"
   ]
  },
  {
   "cell_type": "code",
   "execution_count": 772,
   "metadata": {},
   "outputs": [
    {
     "ename": "NameError",
     "evalue": "name 'cat' is not defined",
     "output_type": "error",
     "traceback": [
      "\u001b[1;31m---------------------------------------------------------------------------\u001b[0m",
      "\u001b[1;31mNameError\u001b[0m                                 Traceback (most recent call last)",
      "\u001b[1;32m<ipython-input-772-72b960ebb407>\u001b[0m in \u001b[0;36m<module>\u001b[1;34m\u001b[0m\n\u001b[1;32m----> 1\u001b[1;33m \u001b[0mcat\u001b[0m\u001b[1;33m.\u001b[0m\u001b[0mcodes\u001b[0m\u001b[1;33m\u001b[0m\u001b[1;33m\u001b[0m\u001b[0m\n\u001b[0m",
      "\u001b[1;31mNameError\u001b[0m: name 'cat' is not defined"
     ]
    }
   ],
   "source": []
  },
  {
   "cell_type": "code",
   "execution_count": null,
   "metadata": {},
   "outputs": [],
   "source": []
  }
 ],
 "metadata": {
  "kernelspec": {
   "display_name": "Python 3",
   "language": "python",
   "name": "python3"
  },
  "language_info": {
   "codemirror_mode": {
    "name": "ipython",
    "version": 3
   },
   "file_extension": ".py",
   "mimetype": "text/x-python",
   "name": "python",
   "nbconvert_exporter": "python",
   "pygments_lexer": "ipython3",
   "version": "3.7.3"
  }
 },
 "nbformat": 4,
 "nbformat_minor": 2
}
